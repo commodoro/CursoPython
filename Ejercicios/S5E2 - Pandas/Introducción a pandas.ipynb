{
 "cells": [
  {
   "cell_type": "markdown",
   "metadata": {},
   "source": [
    "# Introducción a _pandas_\n",
    "## ¿Qué es _pandas_?\n",
    "_pandas_ es una librería de Python que permite realizar operaciones con datos de una forma sencilla. Permite crear estructuras que recuerdan a las usadas en otros programas estadísticos como R, Excel o SPSS.\n",
    "Para comenzar a usar esta librería, hay que importarla."
   ]
  },
  {
   "cell_type": "code",
<<<<<<< HEAD
   "execution_count": 1,
=======
   "execution_count": 28,
>>>>>>> 645a7dc0fbfbd1034272d40ed4f07eefd56797d1
   "metadata": {},
   "outputs": [],
   "source": [
    "import pandas as pd\n",
    "import matplotlib.pyplot as plt\n",
    "%matplotlib inline"
   ]
  },
  {
   "cell_type": "markdown",
   "metadata": {},
   "source": [
    "Para hacer el código más legible, se sugiere utilizar el alias _pd_ para esta librería. Una vez importada dicha librería, se pueden crear objetos basados en esta herramienta.\n",
    "La estructura principal del módulo es el _DataFrame_. Dicha estructura se puede representar como una tabla, en la cual hay un conjunto de datos organizados en filas y columnas. Las columnas poseen un nombre que las identifica, y las filas se distinguen en base a un índice.\n",
    "Internamente, el _DataFrame_ puede ser representado como un diccionario con claves de tipo _string_, que serían los nombres y valores de tipo _pd.Series_, que serían los arrays que contienen los datos.\n",
    "Existen diversas formas de crear un objeto _DataFrame_:\n",
    "- A partir de un objeto de datos de _Python_, como una lista, un diccionario o un array de _numpy_.\n",
    "- A partir de un fichero, con las funciones correspondientes.\n",
    "- A partir de otros objetos de _pandas_.\n",
    "Empezaremos con la creación a partir de otros objetos de _Python_:"
   ]
  },
  {
   "cell_type": "code",
<<<<<<< HEAD
   "execution_count": 2,
=======
   "execution_count": 4,
>>>>>>> 645a7dc0fbfbd1034272d40ed4f07eefd56797d1
   "metadata": {},
   "outputs": [
    {
     "name": "stdout",
     "output_type": "stream",
     "text": [
      "   0  1\n",
      "0  1  2\n",
      "1  3  4\n"
     ]
    }
   ],
   "source": [
    "datos = pd.DataFrame([[1,2],[3,4]])\n",
    "print(datos)"
   ]
  },
  {
   "cell_type": "markdown",
   "metadata": {},
   "source": [
    "Como se puede ver, se ha creado una matriz de datos con los valores que le hemos especificado. Cada valor va identificado de forma unívoca a partir de los nombres de sus columnas y su índice de fila. Cabe destacar que como no se ha indicado ningún tipo de información para los nombres o los índices, estos se han generado automáticamente.\n",
    "En el siguiente ejemplo se muestra como crear un dato incluyendo los nombres:\n"
   ]
  },
  {
   "cell_type": "code",
<<<<<<< HEAD
   "execution_count": 3,
=======
   "execution_count": 5,
>>>>>>> 645a7dc0fbfbd1034272d40ed4f07eefd56797d1
   "metadata": {},
   "outputs": [
    {
     "name": "stdout",
     "output_type": "stream",
     "text": [
      "   col1  col2\n",
      "0     1     2\n",
      "1     3     4\n",
      "2     5     6\n"
     ]
    }
   ],
   "source": [
    "datos = pd.DataFrame([[1,2],[3,4], [5,6]], columns=['col1', 'col2'])\n",
    "print(datos)"
   ]
  },
  {
   "cell_type": "markdown",
   "metadata": {},
   "source": [
    "En este caso sí que se han especificado nombres, por lo que estos se muestran al imprimir el _DataFrame_.\n",
    "Hay dos formas de acceder a los datos en _pandas_, por columna o por índice. Lo más normal es acceder por columna, por lo que a la hora de usar la librería, la prioridad se resolverá la columna y luego el índice. Esto se detallará más adelante, cuando establezcamos el índice de forma manual.\n",
    "Vamos a probar a manejar los datos del _DataFrame_:"
   ]
  },
  {
   "cell_type": "code",
<<<<<<< HEAD
   "execution_count": 4,
=======
   "execution_count": 6,
>>>>>>> 645a7dc0fbfbd1034272d40ed4f07eefd56797d1
   "metadata": {},
   "outputs": [
    {
     "name": "stdout",
     "output_type": "stream",
     "text": [
      "['col1', 'col2']\n",
      "3\n"
     ]
    }
   ],
   "source": [
    "print(list(datos))\n",
    "print(len(datos))"
   ]
  },
  {
   "cell_type": "markdown",
   "metadata": {},
   "source": [
    "Al llamar list(datos), se obtiene una lista con los nombres de las columnas del _DataFrame_. Al llamar a len(datos) se obtiene el número de filas. Como se ha comentado anteriormente, se puede extraer una sección de los datos del _DataFrame_ utilizando el operador [ ] y el nombre de la columna."
   ]
  },
  {
   "cell_type": "code",
<<<<<<< HEAD
   "execution_count": 5,
=======
   "execution_count": 7,
>>>>>>> 645a7dc0fbfbd1034272d40ed4f07eefd56797d1
   "metadata": {},
   "outputs": [
    {
     "name": "stdout",
     "output_type": "stream",
     "text": [
      "0    1\n",
      "1    3\n",
      "2    5\n",
      "Name: col1, dtype: int64\n",
      "\n",
      "\n"
     ]
    },
    {
     "ename": "KeyError",
     "evalue": "0",
     "output_type": "error",
     "traceback": [
      "\u001b[0;31m---------------------------------------------------------------------------\u001b[0m",
      "\u001b[0;31mKeyError\u001b[0m                                  Traceback (most recent call last)",
      "\u001b[0;32m/usr/lib/python3/dist-packages/pandas/core/indexes/base.py\u001b[0m in \u001b[0;36mget_loc\u001b[0;34m(self, key, method, tolerance)\u001b[0m\n\u001b[1;32m   2524\u001b[0m             \u001b[0;32mtry\u001b[0m\u001b[0;34m:\u001b[0m\u001b[0;34m\u001b[0m\u001b[0;34m\u001b[0m\u001b[0m\n\u001b[0;32m-> 2525\u001b[0;31m                 \u001b[0;32mreturn\u001b[0m \u001b[0mself\u001b[0m\u001b[0;34m.\u001b[0m\u001b[0m_engine\u001b[0m\u001b[0;34m.\u001b[0m\u001b[0mget_loc\u001b[0m\u001b[0;34m(\u001b[0m\u001b[0mkey\u001b[0m\u001b[0;34m)\u001b[0m\u001b[0;34m\u001b[0m\u001b[0;34m\u001b[0m\u001b[0m\n\u001b[0m\u001b[1;32m   2526\u001b[0m             \u001b[0;32mexcept\u001b[0m \u001b[0mKeyError\u001b[0m\u001b[0;34m:\u001b[0m\u001b[0;34m\u001b[0m\u001b[0;34m\u001b[0m\u001b[0m\n",
      "\u001b[0;32mpandas/_libs/index.pyx\u001b[0m in \u001b[0;36mpandas._libs.index.IndexEngine.get_loc\u001b[0;34m()\u001b[0m\n",
      "\u001b[0;32mpandas/_libs/index.pyx\u001b[0m in \u001b[0;36mpandas._libs.index.IndexEngine.get_loc\u001b[0;34m()\u001b[0m\n",
      "\u001b[0;32mpandas/_libs/hashtable_class_helper.pxi\u001b[0m in \u001b[0;36mpandas._libs.hashtable.PyObjectHashTable.get_item\u001b[0;34m()\u001b[0m\n",
      "\u001b[0;32mpandas/_libs/hashtable_class_helper.pxi\u001b[0m in \u001b[0;36mpandas._libs.hashtable.PyObjectHashTable.get_item\u001b[0;34m()\u001b[0m\n",
      "\u001b[0;31mKeyError\u001b[0m: 0",
      "\nDuring handling of the above exception, another exception occurred:\n",
      "\u001b[0;31mKeyError\u001b[0m                                  Traceback (most recent call last)",
<<<<<<< HEAD
      "\u001b[0;32m<ipython-input-5-17107b3ee36a>\u001b[0m in \u001b[0;36m<module>\u001b[0;34m\u001b[0m\n\u001b[1;32m      1\u001b[0m \u001b[0mprint\u001b[0m\u001b[0;34m(\u001b[0m\u001b[0mdatos\u001b[0m\u001b[0;34m[\u001b[0m\u001b[0;34m'col1'\u001b[0m\u001b[0;34m]\u001b[0m\u001b[0;34m)\u001b[0m\u001b[0;34m\u001b[0m\u001b[0;34m\u001b[0m\u001b[0m\n\u001b[1;32m      2\u001b[0m \u001b[0mprint\u001b[0m\u001b[0;34m(\u001b[0m\u001b[0;34m'\\n'\u001b[0m\u001b[0;34m)\u001b[0m\u001b[0;34m\u001b[0m\u001b[0;34m\u001b[0m\u001b[0m\n\u001b[0;32m----> 3\u001b[0;31m \u001b[0mprint\u001b[0m\u001b[0;34m(\u001b[0m\u001b[0mdatos\u001b[0m\u001b[0;34m[\u001b[0m\u001b[0;36m0\u001b[0m\u001b[0;34m]\u001b[0m\u001b[0;34m)\u001b[0m\u001b[0;34m\u001b[0m\u001b[0;34m\u001b[0m\u001b[0m\n\u001b[0m",
=======
      "\u001b[0;32m<ipython-input-7-17107b3ee36a>\u001b[0m in \u001b[0;36m<module>\u001b[0;34m\u001b[0m\n\u001b[1;32m      1\u001b[0m \u001b[0mprint\u001b[0m\u001b[0;34m(\u001b[0m\u001b[0mdatos\u001b[0m\u001b[0;34m[\u001b[0m\u001b[0;34m'col1'\u001b[0m\u001b[0;34m]\u001b[0m\u001b[0;34m)\u001b[0m\u001b[0;34m\u001b[0m\u001b[0;34m\u001b[0m\u001b[0m\n\u001b[1;32m      2\u001b[0m \u001b[0mprint\u001b[0m\u001b[0;34m(\u001b[0m\u001b[0;34m'\\n'\u001b[0m\u001b[0;34m)\u001b[0m\u001b[0;34m\u001b[0m\u001b[0;34m\u001b[0m\u001b[0m\n\u001b[0;32m----> 3\u001b[0;31m \u001b[0mprint\u001b[0m\u001b[0;34m(\u001b[0m\u001b[0mdatos\u001b[0m\u001b[0;34m[\u001b[0m\u001b[0;36m0\u001b[0m\u001b[0;34m]\u001b[0m\u001b[0;34m)\u001b[0m\u001b[0;34m\u001b[0m\u001b[0;34m\u001b[0m\u001b[0m\n\u001b[0m",
>>>>>>> 645a7dc0fbfbd1034272d40ed4f07eefd56797d1
      "\u001b[0;32m/usr/lib/python3/dist-packages/pandas/core/frame.py\u001b[0m in \u001b[0;36m__getitem__\u001b[0;34m(self, key)\u001b[0m\n\u001b[1;32m   2137\u001b[0m             \u001b[0;32mreturn\u001b[0m \u001b[0mself\u001b[0m\u001b[0;34m.\u001b[0m\u001b[0m_getitem_multilevel\u001b[0m\u001b[0;34m(\u001b[0m\u001b[0mkey\u001b[0m\u001b[0;34m)\u001b[0m\u001b[0;34m\u001b[0m\u001b[0;34m\u001b[0m\u001b[0m\n\u001b[1;32m   2138\u001b[0m         \u001b[0;32melse\u001b[0m\u001b[0;34m:\u001b[0m\u001b[0;34m\u001b[0m\u001b[0;34m\u001b[0m\u001b[0m\n\u001b[0;32m-> 2139\u001b[0;31m             \u001b[0;32mreturn\u001b[0m \u001b[0mself\u001b[0m\u001b[0;34m.\u001b[0m\u001b[0m_getitem_column\u001b[0m\u001b[0;34m(\u001b[0m\u001b[0mkey\u001b[0m\u001b[0;34m)\u001b[0m\u001b[0;34m\u001b[0m\u001b[0;34m\u001b[0m\u001b[0m\n\u001b[0m\u001b[1;32m   2140\u001b[0m \u001b[0;34m\u001b[0m\u001b[0m\n\u001b[1;32m   2141\u001b[0m     \u001b[0;32mdef\u001b[0m \u001b[0m_getitem_column\u001b[0m\u001b[0;34m(\u001b[0m\u001b[0mself\u001b[0m\u001b[0;34m,\u001b[0m \u001b[0mkey\u001b[0m\u001b[0;34m)\u001b[0m\u001b[0;34m:\u001b[0m\u001b[0;34m\u001b[0m\u001b[0;34m\u001b[0m\u001b[0m\n",
      "\u001b[0;32m/usr/lib/python3/dist-packages/pandas/core/frame.py\u001b[0m in \u001b[0;36m_getitem_column\u001b[0;34m(self, key)\u001b[0m\n\u001b[1;32m   2144\u001b[0m         \u001b[0;31m# get column\u001b[0m\u001b[0;34m\u001b[0m\u001b[0;34m\u001b[0m\u001b[0;34m\u001b[0m\u001b[0m\n\u001b[1;32m   2145\u001b[0m         \u001b[0;32mif\u001b[0m \u001b[0mself\u001b[0m\u001b[0;34m.\u001b[0m\u001b[0mcolumns\u001b[0m\u001b[0;34m.\u001b[0m\u001b[0mis_unique\u001b[0m\u001b[0;34m:\u001b[0m\u001b[0;34m\u001b[0m\u001b[0;34m\u001b[0m\u001b[0m\n\u001b[0;32m-> 2146\u001b[0;31m             \u001b[0;32mreturn\u001b[0m \u001b[0mself\u001b[0m\u001b[0;34m.\u001b[0m\u001b[0m_get_item_cache\u001b[0m\u001b[0;34m(\u001b[0m\u001b[0mkey\u001b[0m\u001b[0;34m)\u001b[0m\u001b[0;34m\u001b[0m\u001b[0;34m\u001b[0m\u001b[0m\n\u001b[0m\u001b[1;32m   2147\u001b[0m \u001b[0;34m\u001b[0m\u001b[0m\n\u001b[1;32m   2148\u001b[0m         \u001b[0;31m# duplicate columns & possible reduce dimensionality\u001b[0m\u001b[0;34m\u001b[0m\u001b[0;34m\u001b[0m\u001b[0;34m\u001b[0m\u001b[0m\n",
      "\u001b[0;32m/usr/lib/python3/dist-packages/pandas/core/generic.py\u001b[0m in \u001b[0;36m_get_item_cache\u001b[0;34m(self, item)\u001b[0m\n\u001b[1;32m   1840\u001b[0m         \u001b[0mres\u001b[0m \u001b[0;34m=\u001b[0m \u001b[0mcache\u001b[0m\u001b[0;34m.\u001b[0m\u001b[0mget\u001b[0m\u001b[0;34m(\u001b[0m\u001b[0mitem\u001b[0m\u001b[0;34m)\u001b[0m\u001b[0;34m\u001b[0m\u001b[0;34m\u001b[0m\u001b[0m\n\u001b[1;32m   1841\u001b[0m         \u001b[0;32mif\u001b[0m \u001b[0mres\u001b[0m \u001b[0;32mis\u001b[0m \u001b[0;32mNone\u001b[0m\u001b[0;34m:\u001b[0m\u001b[0;34m\u001b[0m\u001b[0;34m\u001b[0m\u001b[0m\n\u001b[0;32m-> 1842\u001b[0;31m             \u001b[0mvalues\u001b[0m \u001b[0;34m=\u001b[0m \u001b[0mself\u001b[0m\u001b[0;34m.\u001b[0m\u001b[0m_data\u001b[0m\u001b[0;34m.\u001b[0m\u001b[0mget\u001b[0m\u001b[0;34m(\u001b[0m\u001b[0mitem\u001b[0m\u001b[0;34m)\u001b[0m\u001b[0;34m\u001b[0m\u001b[0;34m\u001b[0m\u001b[0m\n\u001b[0m\u001b[1;32m   1843\u001b[0m             \u001b[0mres\u001b[0m \u001b[0;34m=\u001b[0m \u001b[0mself\u001b[0m\u001b[0;34m.\u001b[0m\u001b[0m_box_item_values\u001b[0m\u001b[0;34m(\u001b[0m\u001b[0mitem\u001b[0m\u001b[0;34m,\u001b[0m \u001b[0mvalues\u001b[0m\u001b[0;34m)\u001b[0m\u001b[0;34m\u001b[0m\u001b[0;34m\u001b[0m\u001b[0m\n\u001b[1;32m   1844\u001b[0m             \u001b[0mcache\u001b[0m\u001b[0;34m[\u001b[0m\u001b[0mitem\u001b[0m\u001b[0;34m]\u001b[0m \u001b[0;34m=\u001b[0m \u001b[0mres\u001b[0m\u001b[0;34m\u001b[0m\u001b[0;34m\u001b[0m\u001b[0m\n",
      "\u001b[0;32m/usr/lib/python3/dist-packages/pandas/core/internals.py\u001b[0m in \u001b[0;36mget\u001b[0;34m(self, item, fastpath)\u001b[0m\n\u001b[1;32m   3841\u001b[0m \u001b[0;34m\u001b[0m\u001b[0m\n\u001b[1;32m   3842\u001b[0m             \u001b[0;32mif\u001b[0m \u001b[0;32mnot\u001b[0m \u001b[0misna\u001b[0m\u001b[0;34m(\u001b[0m\u001b[0mitem\u001b[0m\u001b[0;34m)\u001b[0m\u001b[0;34m:\u001b[0m\u001b[0;34m\u001b[0m\u001b[0;34m\u001b[0m\u001b[0m\n\u001b[0;32m-> 3843\u001b[0;31m                 \u001b[0mloc\u001b[0m \u001b[0;34m=\u001b[0m \u001b[0mself\u001b[0m\u001b[0;34m.\u001b[0m\u001b[0mitems\u001b[0m\u001b[0;34m.\u001b[0m\u001b[0mget_loc\u001b[0m\u001b[0;34m(\u001b[0m\u001b[0mitem\u001b[0m\u001b[0;34m)\u001b[0m\u001b[0;34m\u001b[0m\u001b[0;34m\u001b[0m\u001b[0m\n\u001b[0m\u001b[1;32m   3844\u001b[0m             \u001b[0;32melse\u001b[0m\u001b[0;34m:\u001b[0m\u001b[0;34m\u001b[0m\u001b[0;34m\u001b[0m\u001b[0m\n\u001b[1;32m   3845\u001b[0m                 \u001b[0mindexer\u001b[0m \u001b[0;34m=\u001b[0m \u001b[0mnp\u001b[0m\u001b[0;34m.\u001b[0m\u001b[0marange\u001b[0m\u001b[0;34m(\u001b[0m\u001b[0mlen\u001b[0m\u001b[0;34m(\u001b[0m\u001b[0mself\u001b[0m\u001b[0;34m.\u001b[0m\u001b[0mitems\u001b[0m\u001b[0;34m)\u001b[0m\u001b[0;34m)\u001b[0m\u001b[0;34m[\u001b[0m\u001b[0misna\u001b[0m\u001b[0;34m(\u001b[0m\u001b[0mself\u001b[0m\u001b[0;34m.\u001b[0m\u001b[0mitems\u001b[0m\u001b[0;34m)\u001b[0m\u001b[0;34m]\u001b[0m\u001b[0;34m\u001b[0m\u001b[0;34m\u001b[0m\u001b[0m\n",
      "\u001b[0;32m/usr/lib/python3/dist-packages/pandas/core/indexes/base.py\u001b[0m in \u001b[0;36mget_loc\u001b[0;34m(self, key, method, tolerance)\u001b[0m\n\u001b[1;32m   2525\u001b[0m                 \u001b[0;32mreturn\u001b[0m \u001b[0mself\u001b[0m\u001b[0;34m.\u001b[0m\u001b[0m_engine\u001b[0m\u001b[0;34m.\u001b[0m\u001b[0mget_loc\u001b[0m\u001b[0;34m(\u001b[0m\u001b[0mkey\u001b[0m\u001b[0;34m)\u001b[0m\u001b[0;34m\u001b[0m\u001b[0;34m\u001b[0m\u001b[0m\n\u001b[1;32m   2526\u001b[0m             \u001b[0;32mexcept\u001b[0m \u001b[0mKeyError\u001b[0m\u001b[0;34m:\u001b[0m\u001b[0;34m\u001b[0m\u001b[0;34m\u001b[0m\u001b[0m\n\u001b[0;32m-> 2527\u001b[0;31m                 \u001b[0;32mreturn\u001b[0m \u001b[0mself\u001b[0m\u001b[0;34m.\u001b[0m\u001b[0m_engine\u001b[0m\u001b[0;34m.\u001b[0m\u001b[0mget_loc\u001b[0m\u001b[0;34m(\u001b[0m\u001b[0mself\u001b[0m\u001b[0;34m.\u001b[0m\u001b[0m_maybe_cast_indexer\u001b[0m\u001b[0;34m(\u001b[0m\u001b[0mkey\u001b[0m\u001b[0;34m)\u001b[0m\u001b[0;34m)\u001b[0m\u001b[0;34m\u001b[0m\u001b[0;34m\u001b[0m\u001b[0m\n\u001b[0m\u001b[1;32m   2528\u001b[0m \u001b[0;34m\u001b[0m\u001b[0m\n\u001b[1;32m   2529\u001b[0m         \u001b[0mindexer\u001b[0m \u001b[0;34m=\u001b[0m \u001b[0mself\u001b[0m\u001b[0;34m.\u001b[0m\u001b[0mget_indexer\u001b[0m\u001b[0;34m(\u001b[0m\u001b[0;34m[\u001b[0m\u001b[0mkey\u001b[0m\u001b[0;34m]\u001b[0m\u001b[0;34m,\u001b[0m \u001b[0mmethod\u001b[0m\u001b[0;34m=\u001b[0m\u001b[0mmethod\u001b[0m\u001b[0;34m,\u001b[0m \u001b[0mtolerance\u001b[0m\u001b[0;34m=\u001b[0m\u001b[0mtolerance\u001b[0m\u001b[0;34m)\u001b[0m\u001b[0;34m\u001b[0m\u001b[0;34m\u001b[0m\u001b[0m\n",
      "\u001b[0;32mpandas/_libs/index.pyx\u001b[0m in \u001b[0;36mpandas._libs.index.IndexEngine.get_loc\u001b[0;34m()\u001b[0m\n",
      "\u001b[0;32mpandas/_libs/index.pyx\u001b[0m in \u001b[0;36mpandas._libs.index.IndexEngine.get_loc\u001b[0;34m()\u001b[0m\n",
      "\u001b[0;32mpandas/_libs/hashtable_class_helper.pxi\u001b[0m in \u001b[0;36mpandas._libs.hashtable.PyObjectHashTable.get_item\u001b[0;34m()\u001b[0m\n",
      "\u001b[0;32mpandas/_libs/hashtable_class_helper.pxi\u001b[0m in \u001b[0;36mpandas._libs.hashtable.PyObjectHashTable.get_item\u001b[0;34m()\u001b[0m\n",
      "\u001b[0;31mKeyError\u001b[0m: 0"
     ]
    }
   ],
   "source": [
    "print(datos['col1'])\n",
    "print('\\n')\n",
    "print(datos[0])"
   ]
  },
  {
   "cell_type": "markdown",
   "metadata": {},
   "source": [
    "En este caso, se muestra el índice, el nombre y los valores y el tipo de objeto sobre el que se está trabajando. Por otro lado, al intentar utilizar este operador con el valor del índice da error. Entonces, ¿cómo podría extraer todos los valores para un índice? Para ello, existe el miembro _loc_ (_location_)."
   ]
  },
  {
   "cell_type": "code",
<<<<<<< HEAD
   "execution_count": 6,
=======
   "execution_count": 8,
>>>>>>> 645a7dc0fbfbd1034272d40ed4f07eefd56797d1
   "metadata": {},
   "outputs": [
    {
     "data": {
      "text/plain": [
       "col1    1\n",
       "col2    2\n",
       "Name: 0, dtype: int64"
      ]
     },
<<<<<<< HEAD
     "execution_count": 6,
=======
     "execution_count": 8,
>>>>>>> 645a7dc0fbfbd1034272d40ed4f07eefd56797d1
     "metadata": {},
     "output_type": "execute_result"
    }
   ],
   "source": [
    "datos.loc[0]"
   ]
  },
  {
   "cell_type": "markdown",
   "metadata": {},
   "source": [
    "En este caso, se muestran los dos valores de las columnas.\n",
    "Aunque en la inmensa mayoría de los casos, usar el operador [ ] no conlleva a ninguna ambigüedad, en ocasiones sí lo hace. Para especificar que quieres trabajar con el nombre de la columna, se usa el miembro _loc_ (nótese que no lleva i).\n",
    "El siguiente paso es ver qué valores estadísticos permite _pandas_ calcular. Los más comunes se muestran a continuación"
   ]
  },
  {
   "cell_type": "code",
<<<<<<< HEAD
   "execution_count": 7,
=======
   "execution_count": 9,
>>>>>>> 645a7dc0fbfbd1034272d40ed4f07eefd56797d1
   "metadata": {},
   "outputs": [
    {
     "name": "stdout",
     "output_type": "stream",
     "text": [
      "col1    3.0\n",
      "col2    4.0\n",
      "dtype: float64\n",
      "\n",
      "col1    2.0\n",
      "col2    2.0\n",
      "dtype: float64\n",
      "\n",
      "col1    3\n",
      "col2    3\n",
      "dtype: int64\n",
      "\n",
      "col1    5\n",
      "col2    6\n",
      "dtype: int64\n",
      "\n",
      "col1    1\n",
      "col2    2\n",
      "dtype: int64\n",
      "\n"
     ]
    }
   ],
   "source": [
    "print(datos.mean(), end='\\n\\n')\n",
    "print(datos.std(), end='\\n\\n')\n",
    "\n",
    "print(datos.count(), end='\\n\\n')\n",
    "print(datos.max(), end='\\n\\n')\n",
    "print(datos.min(), end='\\n\\n')"
   ]
  },
  {
   "cell_type": "markdown",
   "metadata": {},
   "source": [
    "Lo siguiente que veremos es el tratamiento de ficheros. _pandas_ es compatible con diversos tipos de ficheros y fuentes de datos variadas. Los más comunes en el mundo de la 100sia son los ficheros _csv_ (_comma separated values_) y los ficheros _xlsx_ (el archiconocido _excel_). Para ello, _pandas_ ofrece las funciones to_csv y to_excel.\n",
    "Ahora, vamos a leer un fichero _csv_ para obtener datos interesantes de verdad. "
   ]
  },
  {
   "cell_type": "code",
<<<<<<< HEAD
   "execution_count": 8,
=======
   "execution_count": 10,
>>>>>>> 645a7dc0fbfbd1034272d40ed4f07eefd56797d1
   "metadata": {},
   "outputs": [
    {
     "data": {
      "text/html": [
       "<div>\n",
       "<style scoped>\n",
       "    .dataframe tbody tr th:only-of-type {\n",
       "        vertical-align: middle;\n",
       "    }\n",
       "\n",
       "    .dataframe tbody tr th {\n",
       "        vertical-align: top;\n",
       "    }\n",
       "\n",
       "    .dataframe thead th {\n",
       "        text-align: right;\n",
       "    }\n",
       "</style>\n",
       "<table border=\"1\" class=\"dataframe\">\n",
       "  <thead>\n",
       "    <tr style=\"text-align: right;\">\n",
       "      <th></th>\n",
       "      <th>TIMESTAMP</th>\n",
       "      <th>RECORD</th>\n",
       "      <th>Batt_Volt_Min</th>\n",
       "      <th>PTemp</th>\n",
       "      <th>FTPRes_Campo</th>\n",
       "      <th>FTPRes_Inst</th>\n",
       "    </tr>\n",
       "  </thead>\n",
       "  <tbody>\n",
       "    <tr>\n",
       "      <th>0</th>\n",
       "      <td>2019-05-02 10:20:00</td>\n",
       "      <td>7765</td>\n",
       "      <td>13.63</td>\n",
       "      <td>25.22</td>\n",
       "      <td>-1</td>\n",
       "      <td>-1</td>\n",
       "    </tr>\n",
       "    <tr>\n",
       "      <th>1</th>\n",
       "      <td>2019-05-02 10:30:00</td>\n",
       "      <td>7766</td>\n",
       "      <td>13.57</td>\n",
       "      <td>24.54</td>\n",
       "      <td>-1</td>\n",
       "      <td>-1</td>\n",
       "    </tr>\n",
       "    <tr>\n",
       "      <th>2</th>\n",
       "      <td>2019-05-02 10:40:00</td>\n",
       "      <td>7767</td>\n",
       "      <td>14.57</td>\n",
       "      <td>24.75</td>\n",
       "      <td>-2</td>\n",
       "      <td>-2</td>\n",
       "    </tr>\n",
       "    <tr>\n",
       "      <th>3</th>\n",
       "      <td>2019-05-02 10:50:00</td>\n",
       "      <td>7768</td>\n",
       "      <td>14.56</td>\n",
       "      <td>24.87</td>\n",
       "      <td>-2</td>\n",
       "      <td>-2</td>\n",
       "    </tr>\n",
       "    <tr>\n",
       "      <th>4</th>\n",
       "      <td>2019-05-02 11:00:00</td>\n",
       "      <td>7769</td>\n",
       "      <td>14.47</td>\n",
       "      <td>24.89</td>\n",
       "      <td>-2</td>\n",
       "      <td>-2</td>\n",
       "    </tr>\n",
       "  </tbody>\n",
       "</table>\n",
       "</div>"
      ],
      "text/plain": [
       "             TIMESTAMP  RECORD  Batt_Volt_Min  PTemp  FTPRes_Campo  \\\n",
       "0  2019-05-02 10:20:00    7765          13.63  25.22            -1   \n",
       "1  2019-05-02 10:30:00    7766          13.57  24.54            -1   \n",
       "2  2019-05-02 10:40:00    7767          14.57  24.75            -2   \n",
       "3  2019-05-02 10:50:00    7768          14.56  24.87            -2   \n",
       "4  2019-05-02 11:00:00    7769          14.47  24.89            -2   \n",
       "\n",
       "   FTPRes_Inst  \n",
       "0           -1  \n",
       "1           -1  \n",
       "2           -2  \n",
       "3           -2  \n",
       "4           -2  "
      ]
     },
<<<<<<< HEAD
     "execution_count": 8,
=======
     "execution_count": 10,
>>>>>>> 645a7dc0fbfbd1034272d40ed4f07eefd56797d1
     "metadata": {},
     "output_type": "execute_result"
    }
   ],
   "source": [
    "datos = pd.read_csv('datos.csv')\n",
    "datos.head()"
   ]
  },
  {
   "cell_type": "markdown",
   "metadata": {},
   "source": [
    "Se puede ver que, en este caso, el fichero es un fichero que tiene seis columnas: fecha, número de medida, voltaje de la batería, temperatura y dos indicadores de error (en los que no nos centraremos). Se puede ver que _pandas_ ha creado un índice para cada medida, pero se puede ver que hay otras columnas que podríamos utilizar como índice. Para establecer el índice, se usará el método set_index"
   ]
  },
  {
   "cell_type": "code",
<<<<<<< HEAD
   "execution_count": 9,
=======
   "execution_count": 11,
>>>>>>> 645a7dc0fbfbd1034272d40ed4f07eefd56797d1
   "metadata": {},
   "outputs": [
    {
     "data": {
      "text/html": [
       "<div>\n",
       "<style scoped>\n",
       "    .dataframe tbody tr th:only-of-type {\n",
       "        vertical-align: middle;\n",
       "    }\n",
       "\n",
       "    .dataframe tbody tr th {\n",
       "        vertical-align: top;\n",
       "    }\n",
       "\n",
       "    .dataframe thead th {\n",
       "        text-align: right;\n",
       "    }\n",
       "</style>\n",
       "<table border=\"1\" class=\"dataframe\">\n",
       "  <thead>\n",
       "    <tr style=\"text-align: right;\">\n",
       "      <th></th>\n",
       "      <th>RECORD</th>\n",
       "      <th>Batt_Volt_Min</th>\n",
       "      <th>PTemp</th>\n",
       "      <th>FTPRes_Campo</th>\n",
       "      <th>FTPRes_Inst</th>\n",
       "    </tr>\n",
       "    <tr>\n",
       "      <th>TIMESTAMP</th>\n",
       "      <th></th>\n",
       "      <th></th>\n",
       "      <th></th>\n",
       "      <th></th>\n",
       "      <th></th>\n",
       "    </tr>\n",
       "  </thead>\n",
       "  <tbody>\n",
       "    <tr>\n",
       "      <th>2019-05-02 10:20:00</th>\n",
       "      <td>7765</td>\n",
       "      <td>13.63</td>\n",
       "      <td>25.22</td>\n",
       "      <td>-1</td>\n",
       "      <td>-1</td>\n",
       "    </tr>\n",
       "    <tr>\n",
       "      <th>2019-05-02 10:30:00</th>\n",
       "      <td>7766</td>\n",
       "      <td>13.57</td>\n",
       "      <td>24.54</td>\n",
       "      <td>-1</td>\n",
       "      <td>-1</td>\n",
       "    </tr>\n",
       "    <tr>\n",
       "      <th>2019-05-02 10:40:00</th>\n",
       "      <td>7767</td>\n",
       "      <td>14.57</td>\n",
       "      <td>24.75</td>\n",
       "      <td>-2</td>\n",
       "      <td>-2</td>\n",
       "    </tr>\n",
       "    <tr>\n",
       "      <th>2019-05-02 10:50:00</th>\n",
       "      <td>7768</td>\n",
       "      <td>14.56</td>\n",
       "      <td>24.87</td>\n",
       "      <td>-2</td>\n",
       "      <td>-2</td>\n",
       "    </tr>\n",
       "    <tr>\n",
       "      <th>2019-05-02 11:00:00</th>\n",
       "      <td>7769</td>\n",
       "      <td>14.47</td>\n",
       "      <td>24.89</td>\n",
       "      <td>-2</td>\n",
       "      <td>-2</td>\n",
       "    </tr>\n",
       "  </tbody>\n",
       "</table>\n",
       "</div>"
      ],
      "text/plain": [
       "                     RECORD  Batt_Volt_Min  PTemp  FTPRes_Campo  FTPRes_Inst\n",
       "TIMESTAMP                                                                   \n",
       "2019-05-02 10:20:00    7765          13.63  25.22            -1           -1\n",
       "2019-05-02 10:30:00    7766          13.57  24.54            -1           -1\n",
       "2019-05-02 10:40:00    7767          14.57  24.75            -2           -2\n",
       "2019-05-02 10:50:00    7768          14.56  24.87            -2           -2\n",
       "2019-05-02 11:00:00    7769          14.47  24.89            -2           -2"
      ]
     },
<<<<<<< HEAD
     "execution_count": 9,
=======
     "execution_count": 11,
>>>>>>> 645a7dc0fbfbd1034272d40ed4f07eefd56797d1
     "metadata": {},
     "output_type": "execute_result"
    }
   ],
   "source": [
    "datos = datos.set_index('TIMESTAMP')\n",
    "datos.head()"
   ]
  },
  {
   "cell_type": "markdown",
   "metadata": {},
   "source": [
    "Se puede ver que ahora sí que se considera como índice la fecha. Sin embargo, se puede ver que si se comprueba el tipo del índice, este será una cadena."
   ]
  },
  {
   "cell_type": "code",
<<<<<<< HEAD
   "execution_count": 10,
=======
   "execution_count": 12,
>>>>>>> 645a7dc0fbfbd1034272d40ed4f07eefd56797d1
   "metadata": {},
   "outputs": [
    {
     "data": {
      "text/plain": [
       "str"
      ]
     },
<<<<<<< HEAD
     "execution_count": 10,
=======
     "execution_count": 12,
>>>>>>> 645a7dc0fbfbd1034272d40ed4f07eefd56797d1
     "metadata": {},
     "output_type": "execute_result"
    }
   ],
   "source": [
    "type(datos.index[0])"
   ]
  },
  {
   "cell_type": "markdown",
   "metadata": {},
   "source": [
    "Para solucionar esto, habrá que indicar cómo se tiene que extraer la información de la fecha. Se puede usar el método to_datetime. Éste método admite una cadena, que será la que se quiere analizar y un patrón, que permite ubicar cada parámetro de la fecha dentro de la cadena. Cada letra se asocia con un dato de esta, y esto se puede consultar más extensamente en la página de documentación. Finalmente, se reasigna el índice por el analizado:"
   ]
  },
  {
   "cell_type": "code",
<<<<<<< HEAD
   "execution_count": 11,
=======
   "execution_count": 13,
>>>>>>> 645a7dc0fbfbd1034272d40ed4f07eefd56797d1
   "metadata": {},
   "outputs": [
    {
     "data": {
      "text/plain": [
       "pandas._libs.tslib.Timestamp"
      ]
     },
<<<<<<< HEAD
     "execution_count": 11,
=======
     "execution_count": 13,
>>>>>>> 645a7dc0fbfbd1034272d40ed4f07eefd56797d1
     "metadata": {},
     "output_type": "execute_result"
    }
   ],
   "source": [
    "datos.index = pd.to_datetime(datos.index, format='%Y-%m-%d %H:%M:%S')\n",
    "type(datos.index[0])"
   ]
  },
  {
   "cell_type": "markdown",
   "metadata": {},
   "source": [
    "Existen más funciones para analizar fechas, tanto dentro de pandas como en Python estándar. Sin embargo, esto se puede hacer también de golpe a la hora de cargar el fichero. Para ello, se han de utilizar algunos parámetros más de la función read_csv. Esto se muestra a continuación."
   ]
  },
  {
   "cell_type": "code",
<<<<<<< HEAD
   "execution_count": 12,
=======
   "execution_count": 14,
>>>>>>> 645a7dc0fbfbd1034272d40ed4f07eefd56797d1
   "metadata": {},
   "outputs": [
    {
     "data": {
      "text/html": [
       "<div>\n",
       "<style scoped>\n",
       "    .dataframe tbody tr th:only-of-type {\n",
       "        vertical-align: middle;\n",
       "    }\n",
       "\n",
       "    .dataframe tbody tr th {\n",
       "        vertical-align: top;\n",
       "    }\n",
       "\n",
       "    .dataframe thead th {\n",
       "        text-align: right;\n",
       "    }\n",
       "</style>\n",
       "<table border=\"1\" class=\"dataframe\">\n",
       "  <thead>\n",
       "    <tr style=\"text-align: right;\">\n",
       "      <th></th>\n",
       "      <th>RECORD</th>\n",
       "      <th>Batt_Volt_Min</th>\n",
       "      <th>PTemp</th>\n",
       "      <th>FTPRes_Campo</th>\n",
       "      <th>FTPRes_Inst</th>\n",
       "    </tr>\n",
       "    <tr>\n",
       "      <th>TIMESTAMP</th>\n",
       "      <th></th>\n",
       "      <th></th>\n",
       "      <th></th>\n",
       "      <th></th>\n",
       "      <th></th>\n",
       "    </tr>\n",
       "  </thead>\n",
       "  <tbody>\n",
       "    <tr>\n",
       "      <th>2019-05-02 10:20:00</th>\n",
       "      <td>7765</td>\n",
       "      <td>13.63</td>\n",
       "      <td>25.22</td>\n",
       "      <td>-1</td>\n",
       "      <td>-1</td>\n",
       "    </tr>\n",
       "    <tr>\n",
       "      <th>2019-05-02 10:30:00</th>\n",
       "      <td>7766</td>\n",
       "      <td>13.57</td>\n",
       "      <td>24.54</td>\n",
       "      <td>-1</td>\n",
       "      <td>-1</td>\n",
       "    </tr>\n",
       "    <tr>\n",
       "      <th>2019-05-02 10:40:00</th>\n",
       "      <td>7767</td>\n",
       "      <td>14.57</td>\n",
       "      <td>24.75</td>\n",
       "      <td>-2</td>\n",
       "      <td>-2</td>\n",
       "    </tr>\n",
       "    <tr>\n",
       "      <th>2019-05-02 10:50:00</th>\n",
       "      <td>7768</td>\n",
       "      <td>14.56</td>\n",
       "      <td>24.87</td>\n",
       "      <td>-2</td>\n",
       "      <td>-2</td>\n",
       "    </tr>\n",
       "    <tr>\n",
       "      <th>2019-05-02 11:00:00</th>\n",
       "      <td>7769</td>\n",
       "      <td>14.47</td>\n",
       "      <td>24.89</td>\n",
       "      <td>-2</td>\n",
       "      <td>-2</td>\n",
       "    </tr>\n",
       "  </tbody>\n",
       "</table>\n",
       "</div>"
      ],
      "text/plain": [
       "                     RECORD  Batt_Volt_Min  PTemp  FTPRes_Campo  FTPRes_Inst\n",
       "TIMESTAMP                                                                   \n",
       "2019-05-02 10:20:00    7765          13.63  25.22            -1           -1\n",
       "2019-05-02 10:30:00    7766          13.57  24.54            -1           -1\n",
       "2019-05-02 10:40:00    7767          14.57  24.75            -2           -2\n",
       "2019-05-02 10:50:00    7768          14.56  24.87            -2           -2\n",
       "2019-05-02 11:00:00    7769          14.47  24.89            -2           -2"
      ]
     },
<<<<<<< HEAD
     "execution_count": 12,
=======
     "execution_count": 14,
>>>>>>> 645a7dc0fbfbd1034272d40ed4f07eefd56797d1
     "metadata": {},
     "output_type": "execute_result"
    }
   ],
   "source": [
    "datos = pd.read_csv('datos.csv', parse_dates=True, \n",
    "                    date_parser=lambda x: pd.to_datetime(x, format='%Y-%m-%d %H:%M:%S'),\n",
    "                   index_col='TIMESTAMP')\n",
    "datos.head()"
   ]
  },
  {
   "cell_type": "markdown",
   "metadata": {},
   "source": [
    "A partir de este DataFrame, se pueden extraer datos utilizando información horaria. Esto se puede hacer tan sencillo como se muestra a continuación."
   ]
  },
  {
   "cell_type": "code",
<<<<<<< HEAD
   "execution_count": 13,
=======
   "execution_count": 15,
>>>>>>> 645a7dc0fbfbd1034272d40ed4f07eefd56797d1
   "metadata": {},
   "outputs": [
    {
     "data": {
      "text/html": [
       "<div>\n",
       "<style scoped>\n",
       "    .dataframe tbody tr th:only-of-type {\n",
       "        vertical-align: middle;\n",
       "    }\n",
       "\n",
       "    .dataframe tbody tr th {\n",
       "        vertical-align: top;\n",
       "    }\n",
       "\n",
       "    .dataframe thead th {\n",
       "        text-align: right;\n",
       "    }\n",
       "</style>\n",
       "<table border=\"1\" class=\"dataframe\">\n",
       "  <thead>\n",
       "    <tr style=\"text-align: right;\">\n",
       "      <th></th>\n",
       "      <th>RECORD</th>\n",
       "      <th>Batt_Volt_Min</th>\n",
       "      <th>PTemp</th>\n",
       "      <th>FTPRes_Campo</th>\n",
       "      <th>FTPRes_Inst</th>\n",
       "    </tr>\n",
       "    <tr>\n",
       "      <th>TIMESTAMP</th>\n",
       "      <th></th>\n",
       "      <th></th>\n",
       "      <th></th>\n",
       "      <th></th>\n",
       "      <th></th>\n",
       "    </tr>\n",
       "  </thead>\n",
       "  <tbody>\n",
       "    <tr>\n",
       "      <th>2019-05-03 00:00:00</th>\n",
       "      <td>7847</td>\n",
       "      <td>12.58</td>\n",
       "      <td>11.61</td>\n",
       "      <td>-2</td>\n",
       "      <td>-2</td>\n",
       "    </tr>\n",
       "    <tr>\n",
       "      <th>2019-05-03 00:10:00</th>\n",
       "      <td>7848</td>\n",
       "      <td>12.58</td>\n",
       "      <td>11.49</td>\n",
       "      <td>-1</td>\n",
       "      <td>-1</td>\n",
       "    </tr>\n",
       "    <tr>\n",
       "      <th>2019-05-03 00:20:00</th>\n",
       "      <td>7849</td>\n",
       "      <td>12.57</td>\n",
       "      <td>11.49</td>\n",
       "      <td>-1</td>\n",
       "      <td>-1</td>\n",
       "    </tr>\n",
       "    <tr>\n",
       "      <th>2019-05-03 00:30:00</th>\n",
       "      <td>7850</td>\n",
       "      <td>12.57</td>\n",
       "      <td>11.59</td>\n",
       "      <td>-1</td>\n",
       "      <td>-1</td>\n",
       "    </tr>\n",
       "    <tr>\n",
       "      <th>2019-05-03 00:40:00</th>\n",
       "      <td>7851</td>\n",
       "      <td>12.56</td>\n",
       "      <td>11.59</td>\n",
       "      <td>-2</td>\n",
       "      <td>-2</td>\n",
       "    </tr>\n",
       "    <tr>\n",
       "      <th>2019-05-03 00:50:00</th>\n",
       "      <td>7852</td>\n",
       "      <td>12.56</td>\n",
       "      <td>11.61</td>\n",
       "      <td>-2</td>\n",
       "      <td>-2</td>\n",
       "    </tr>\n",
       "    <tr>\n",
       "      <th>2019-05-03 01:00:00</th>\n",
       "      <td>7853</td>\n",
       "      <td>12.55</td>\n",
       "      <td>11.61</td>\n",
       "      <td>-2</td>\n",
       "      <td>-2</td>\n",
       "    </tr>\n",
       "    <tr>\n",
       "      <th>2019-05-03 01:10:00</th>\n",
       "      <td>7854</td>\n",
       "      <td>12.53</td>\n",
       "      <td>11.49</td>\n",
       "      <td>-1</td>\n",
       "      <td>-1</td>\n",
       "    </tr>\n",
       "    <tr>\n",
       "      <th>2019-05-03 01:20:00</th>\n",
       "      <td>7855</td>\n",
       "      <td>12.55</td>\n",
       "      <td>11.45</td>\n",
       "      <td>-1</td>\n",
       "      <td>-1</td>\n",
       "    </tr>\n",
       "    <tr>\n",
       "      <th>2019-05-03 01:30:00</th>\n",
       "      <td>7856</td>\n",
       "      <td>12.55</td>\n",
       "      <td>11.36</td>\n",
       "      <td>-1</td>\n",
       "      <td>-1</td>\n",
       "    </tr>\n",
       "    <tr>\n",
       "      <th>2019-05-03 01:40:00</th>\n",
       "      <td>7857</td>\n",
       "      <td>12.40</td>\n",
       "      <td>11.22</td>\n",
       "      <td>-2</td>\n",
       "      <td>-2</td>\n",
       "    </tr>\n",
       "    <tr>\n",
       "      <th>2019-05-03 01:50:00</th>\n",
       "      <td>7858</td>\n",
       "      <td>12.53</td>\n",
       "      <td>11.15</td>\n",
       "      <td>-2</td>\n",
       "      <td>-2</td>\n",
       "    </tr>\n",
       "    <tr>\n",
       "      <th>2019-05-03 02:00:00</th>\n",
       "      <td>7859</td>\n",
       "      <td>12.52</td>\n",
       "      <td>11.06</td>\n",
       "      <td>-2</td>\n",
       "      <td>-2</td>\n",
       "    </tr>\n",
       "    <tr>\n",
       "      <th>2019-05-03 02:10:00</th>\n",
       "      <td>7860</td>\n",
       "      <td>12.36</td>\n",
       "      <td>10.95</td>\n",
       "      <td>-1</td>\n",
       "      <td>-1</td>\n",
       "    </tr>\n",
       "    <tr>\n",
       "      <th>2019-05-03 02:20:00</th>\n",
       "      <td>7861</td>\n",
       "      <td>12.53</td>\n",
       "      <td>10.81</td>\n",
       "      <td>-1</td>\n",
       "      <td>-1</td>\n",
       "    </tr>\n",
       "    <tr>\n",
       "      <th>2019-05-03 02:30:00</th>\n",
       "      <td>7862</td>\n",
       "      <td>12.52</td>\n",
       "      <td>10.70</td>\n",
       "      <td>-1</td>\n",
       "      <td>-1</td>\n",
       "    </tr>\n",
       "    <tr>\n",
       "      <th>2019-05-03 02:40:00</th>\n",
       "      <td>7863</td>\n",
       "      <td>12.42</td>\n",
       "      <td>10.58</td>\n",
       "      <td>-2</td>\n",
       "      <td>-2</td>\n",
       "    </tr>\n",
       "    <tr>\n",
       "      <th>2019-05-03 02:50:00</th>\n",
       "      <td>7864</td>\n",
       "      <td>12.50</td>\n",
       "      <td>10.49</td>\n",
       "      <td>-2</td>\n",
       "      <td>-2</td>\n",
       "    </tr>\n",
       "    <tr>\n",
       "      <th>2019-05-03 03:00:00</th>\n",
       "      <td>7865</td>\n",
       "      <td>12.50</td>\n",
       "      <td>10.40</td>\n",
       "      <td>-2</td>\n",
       "      <td>-2</td>\n",
       "    </tr>\n",
       "    <tr>\n",
       "      <th>2019-05-03 03:10:00</th>\n",
       "      <td>7866</td>\n",
       "      <td>12.49</td>\n",
       "      <td>10.29</td>\n",
       "      <td>-1</td>\n",
       "      <td>-1</td>\n",
       "    </tr>\n",
       "    <tr>\n",
       "      <th>2019-05-03 03:20:00</th>\n",
       "      <td>7867</td>\n",
       "      <td>12.50</td>\n",
       "      <td>10.18</td>\n",
       "      <td>-1</td>\n",
       "      <td>-1</td>\n",
       "    </tr>\n",
       "    <tr>\n",
       "      <th>2019-05-03 03:30:00</th>\n",
       "      <td>7868</td>\n",
       "      <td>12.49</td>\n",
       "      <td>10.09</td>\n",
       "      <td>-1</td>\n",
       "      <td>-1</td>\n",
       "    </tr>\n",
       "    <tr>\n",
       "      <th>2019-05-03 03:40:00</th>\n",
       "      <td>7869</td>\n",
       "      <td>12.43</td>\n",
       "      <td>10.04</td>\n",
       "      <td>-2</td>\n",
       "      <td>-2</td>\n",
       "    </tr>\n",
       "    <tr>\n",
       "      <th>2019-05-03 03:50:00</th>\n",
       "      <td>7870</td>\n",
       "      <td>12.33</td>\n",
       "      <td>10.02</td>\n",
       "      <td>-2</td>\n",
       "      <td>-2</td>\n",
       "    </tr>\n",
       "    <tr>\n",
       "      <th>2019-05-03 04:00:00</th>\n",
       "      <td>7871</td>\n",
       "      <td>12.47</td>\n",
       "      <td>10.02</td>\n",
       "      <td>-2</td>\n",
       "      <td>-2</td>\n",
       "    </tr>\n",
       "    <tr>\n",
       "      <th>2019-05-03 04:10:00</th>\n",
       "      <td>7872</td>\n",
       "      <td>12.47</td>\n",
       "      <td>10.00</td>\n",
       "      <td>-1</td>\n",
       "      <td>-1</td>\n",
       "    </tr>\n",
       "    <tr>\n",
       "      <th>2019-05-03 04:20:00</th>\n",
       "      <td>7873</td>\n",
       "      <td>12.47</td>\n",
       "      <td>9.91</td>\n",
       "      <td>-1</td>\n",
       "      <td>-1</td>\n",
       "    </tr>\n",
       "    <tr>\n",
       "      <th>2019-05-03 04:30:00</th>\n",
       "      <td>7874</td>\n",
       "      <td>12.46</td>\n",
       "      <td>9.88</td>\n",
       "      <td>-1</td>\n",
       "      <td>-1</td>\n",
       "    </tr>\n",
       "    <tr>\n",
       "      <th>2019-05-03 04:40:00</th>\n",
       "      <td>7875</td>\n",
       "      <td>12.45</td>\n",
       "      <td>9.91</td>\n",
       "      <td>-2</td>\n",
       "      <td>-2</td>\n",
       "    </tr>\n",
       "    <tr>\n",
       "      <th>2019-05-03 04:50:00</th>\n",
       "      <td>7876</td>\n",
       "      <td>12.44</td>\n",
       "      <td>9.91</td>\n",
       "      <td>-2</td>\n",
       "      <td>-2</td>\n",
       "    </tr>\n",
       "    <tr>\n",
       "      <th>...</th>\n",
       "      <td>...</td>\n",
       "      <td>...</td>\n",
       "      <td>...</td>\n",
       "      <td>...</td>\n",
       "      <td>...</td>\n",
       "    </tr>\n",
       "    <tr>\n",
       "      <th>2019-05-03 19:00:00</th>\n",
       "      <td>7961</td>\n",
       "      <td>12.69</td>\n",
       "      <td>20.10</td>\n",
       "      <td>-2</td>\n",
       "      <td>-2</td>\n",
       "    </tr>\n",
       "    <tr>\n",
       "      <th>2019-05-03 19:10:00</th>\n",
       "      <td>7962</td>\n",
       "      <td>12.73</td>\n",
       "      <td>19.52</td>\n",
       "      <td>-1</td>\n",
       "      <td>-1</td>\n",
       "    </tr>\n",
       "    <tr>\n",
       "      <th>2019-05-03 19:20:00</th>\n",
       "      <td>7963</td>\n",
       "      <td>12.72</td>\n",
       "      <td>18.95</td>\n",
       "      <td>-1</td>\n",
       "      <td>-1</td>\n",
       "    </tr>\n",
       "    <tr>\n",
       "      <th>2019-05-03 19:30:00</th>\n",
       "      <td>7964</td>\n",
       "      <td>12.72</td>\n",
       "      <td>18.53</td>\n",
       "      <td>-1</td>\n",
       "      <td>-1</td>\n",
       "    </tr>\n",
       "    <tr>\n",
       "      <th>2019-05-03 19:40:00</th>\n",
       "      <td>7965</td>\n",
       "      <td>12.69</td>\n",
       "      <td>18.20</td>\n",
       "      <td>-2</td>\n",
       "      <td>-2</td>\n",
       "    </tr>\n",
       "    <tr>\n",
       "      <th>2019-05-03 19:50:00</th>\n",
       "      <td>7966</td>\n",
       "      <td>12.57</td>\n",
       "      <td>17.92</td>\n",
       "      <td>-2</td>\n",
       "      <td>-2</td>\n",
       "    </tr>\n",
       "    <tr>\n",
       "      <th>2019-05-03 20:00:00</th>\n",
       "      <td>7967</td>\n",
       "      <td>12.69</td>\n",
       "      <td>17.66</td>\n",
       "      <td>-2</td>\n",
       "      <td>-2</td>\n",
       "    </tr>\n",
       "    <tr>\n",
       "      <th>2019-05-03 20:10:00</th>\n",
       "      <td>7968</td>\n",
       "      <td>12.68</td>\n",
       "      <td>17.41</td>\n",
       "      <td>-1</td>\n",
       "      <td>-1</td>\n",
       "    </tr>\n",
       "    <tr>\n",
       "      <th>2019-05-03 20:20:00</th>\n",
       "      <td>7969</td>\n",
       "      <td>12.69</td>\n",
       "      <td>17.26</td>\n",
       "      <td>-1</td>\n",
       "      <td>-1</td>\n",
       "    </tr>\n",
       "    <tr>\n",
       "      <th>2019-05-03 20:30:00</th>\n",
       "      <td>7970</td>\n",
       "      <td>12.68</td>\n",
       "      <td>17.14</td>\n",
       "      <td>-1</td>\n",
       "      <td>-1</td>\n",
       "    </tr>\n",
       "    <tr>\n",
       "      <th>2019-05-03 20:40:00</th>\n",
       "      <td>7971</td>\n",
       "      <td>12.58</td>\n",
       "      <td>17.04</td>\n",
       "      <td>-2</td>\n",
       "      <td>-2</td>\n",
       "    </tr>\n",
       "    <tr>\n",
       "      <th>2019-05-03 20:50:00</th>\n",
       "      <td>7972</td>\n",
       "      <td>12.66</td>\n",
       "      <td>16.91</td>\n",
       "      <td>-2</td>\n",
       "      <td>-2</td>\n",
       "    </tr>\n",
       "    <tr>\n",
       "      <th>2019-05-03 21:00:00</th>\n",
       "      <td>7973</td>\n",
       "      <td>12.65</td>\n",
       "      <td>16.79</td>\n",
       "      <td>-2</td>\n",
       "      <td>-2</td>\n",
       "    </tr>\n",
       "    <tr>\n",
       "      <th>2019-05-03 21:10:00</th>\n",
       "      <td>7974</td>\n",
       "      <td>12.64</td>\n",
       "      <td>16.61</td>\n",
       "      <td>-1</td>\n",
       "      <td>-1</td>\n",
       "    </tr>\n",
       "    <tr>\n",
       "      <th>2019-05-03 21:20:00</th>\n",
       "      <td>7975</td>\n",
       "      <td>12.65</td>\n",
       "      <td>16.34</td>\n",
       "      <td>-1</td>\n",
       "      <td>-1</td>\n",
       "    </tr>\n",
       "    <tr>\n",
       "      <th>2019-05-03 21:30:00</th>\n",
       "      <td>7976</td>\n",
       "      <td>12.65</td>\n",
       "      <td>16.02</td>\n",
       "      <td>-1</td>\n",
       "      <td>-1</td>\n",
       "    </tr>\n",
       "    <tr>\n",
       "      <th>2019-05-03 21:40:00</th>\n",
       "      <td>7977</td>\n",
       "      <td>12.55</td>\n",
       "      <td>15.75</td>\n",
       "      <td>-2</td>\n",
       "      <td>-2</td>\n",
       "    </tr>\n",
       "    <tr>\n",
       "      <th>2019-05-03 21:50:00</th>\n",
       "      <td>7978</td>\n",
       "      <td>12.63</td>\n",
       "      <td>15.53</td>\n",
       "      <td>-2</td>\n",
       "      <td>-2</td>\n",
       "    </tr>\n",
       "    <tr>\n",
       "      <th>2019-05-03 22:00:00</th>\n",
       "      <td>7979</td>\n",
       "      <td>12.63</td>\n",
       "      <td>15.36</td>\n",
       "      <td>-2</td>\n",
       "      <td>-2</td>\n",
       "    </tr>\n",
       "    <tr>\n",
       "      <th>2019-05-03 22:10:00</th>\n",
       "      <td>7980</td>\n",
       "      <td>12.60</td>\n",
       "      <td>15.19</td>\n",
       "      <td>-1</td>\n",
       "      <td>-1</td>\n",
       "    </tr>\n",
       "    <tr>\n",
       "      <th>2019-05-03 22:20:00</th>\n",
       "      <td>7981</td>\n",
       "      <td>12.63</td>\n",
       "      <td>15.07</td>\n",
       "      <td>-1</td>\n",
       "      <td>-1</td>\n",
       "    </tr>\n",
       "    <tr>\n",
       "      <th>2019-05-03 22:30:00</th>\n",
       "      <td>7982</td>\n",
       "      <td>12.63</td>\n",
       "      <td>15.00</td>\n",
       "      <td>-1</td>\n",
       "      <td>-1</td>\n",
       "    </tr>\n",
       "    <tr>\n",
       "      <th>2019-05-03 22:40:00</th>\n",
       "      <td>7983</td>\n",
       "      <td>12.48</td>\n",
       "      <td>15.00</td>\n",
       "      <td>-2</td>\n",
       "      <td>-2</td>\n",
       "    </tr>\n",
       "    <tr>\n",
       "      <th>2019-05-03 22:50:00</th>\n",
       "      <td>7984</td>\n",
       "      <td>12.61</td>\n",
       "      <td>14.97</td>\n",
       "      <td>-2</td>\n",
       "      <td>-2</td>\n",
       "    </tr>\n",
       "    <tr>\n",
       "      <th>2019-05-03 23:00:00</th>\n",
       "      <td>7985</td>\n",
       "      <td>12.57</td>\n",
       "      <td>14.95</td>\n",
       "      <td>-2</td>\n",
       "      <td>-2</td>\n",
       "    </tr>\n",
       "    <tr>\n",
       "      <th>2019-05-03 23:10:00</th>\n",
       "      <td>7986</td>\n",
       "      <td>12.60</td>\n",
       "      <td>14.90</td>\n",
       "      <td>-1</td>\n",
       "      <td>-1</td>\n",
       "    </tr>\n",
       "    <tr>\n",
       "      <th>2019-05-03 23:20:00</th>\n",
       "      <td>7987</td>\n",
       "      <td>12.60</td>\n",
       "      <td>14.80</td>\n",
       "      <td>-1</td>\n",
       "      <td>-1</td>\n",
       "    </tr>\n",
       "    <tr>\n",
       "      <th>2019-05-03 23:30:00</th>\n",
       "      <td>7988</td>\n",
       "      <td>12.60</td>\n",
       "      <td>14.64</td>\n",
       "      <td>-1</td>\n",
       "      <td>-1</td>\n",
       "    </tr>\n",
       "    <tr>\n",
       "      <th>2019-05-03 23:40:00</th>\n",
       "      <td>7989</td>\n",
       "      <td>12.58</td>\n",
       "      <td>14.40</td>\n",
       "      <td>-2</td>\n",
       "      <td>-2</td>\n",
       "    </tr>\n",
       "    <tr>\n",
       "      <th>2019-05-03 23:50:00</th>\n",
       "      <td>7990</td>\n",
       "      <td>12.59</td>\n",
       "      <td>14.16</td>\n",
       "      <td>-2</td>\n",
       "      <td>-2</td>\n",
       "    </tr>\n",
       "  </tbody>\n",
       "</table>\n",
       "<p>144 rows × 5 columns</p>\n",
       "</div>"
      ],
      "text/plain": [
       "                     RECORD  Batt_Volt_Min  PTemp  FTPRes_Campo  FTPRes_Inst\n",
       "TIMESTAMP                                                                   \n",
       "2019-05-03 00:00:00    7847          12.58  11.61            -2           -2\n",
       "2019-05-03 00:10:00    7848          12.58  11.49            -1           -1\n",
       "2019-05-03 00:20:00    7849          12.57  11.49            -1           -1\n",
       "2019-05-03 00:30:00    7850          12.57  11.59            -1           -1\n",
       "2019-05-03 00:40:00    7851          12.56  11.59            -2           -2\n",
       "2019-05-03 00:50:00    7852          12.56  11.61            -2           -2\n",
       "2019-05-03 01:00:00    7853          12.55  11.61            -2           -2\n",
       "2019-05-03 01:10:00    7854          12.53  11.49            -1           -1\n",
       "2019-05-03 01:20:00    7855          12.55  11.45            -1           -1\n",
       "2019-05-03 01:30:00    7856          12.55  11.36            -1           -1\n",
       "2019-05-03 01:40:00    7857          12.40  11.22            -2           -2\n",
       "2019-05-03 01:50:00    7858          12.53  11.15            -2           -2\n",
       "2019-05-03 02:00:00    7859          12.52  11.06            -2           -2\n",
       "2019-05-03 02:10:00    7860          12.36  10.95            -1           -1\n",
       "2019-05-03 02:20:00    7861          12.53  10.81            -1           -1\n",
       "2019-05-03 02:30:00    7862          12.52  10.70            -1           -1\n",
       "2019-05-03 02:40:00    7863          12.42  10.58            -2           -2\n",
       "2019-05-03 02:50:00    7864          12.50  10.49            -2           -2\n",
       "2019-05-03 03:00:00    7865          12.50  10.40            -2           -2\n",
       "2019-05-03 03:10:00    7866          12.49  10.29            -1           -1\n",
       "2019-05-03 03:20:00    7867          12.50  10.18            -1           -1\n",
       "2019-05-03 03:30:00    7868          12.49  10.09            -1           -1\n",
       "2019-05-03 03:40:00    7869          12.43  10.04            -2           -2\n",
       "2019-05-03 03:50:00    7870          12.33  10.02            -2           -2\n",
       "2019-05-03 04:00:00    7871          12.47  10.02            -2           -2\n",
       "2019-05-03 04:10:00    7872          12.47  10.00            -1           -1\n",
       "2019-05-03 04:20:00    7873          12.47   9.91            -1           -1\n",
       "2019-05-03 04:30:00    7874          12.46   9.88            -1           -1\n",
       "2019-05-03 04:40:00    7875          12.45   9.91            -2           -2\n",
       "2019-05-03 04:50:00    7876          12.44   9.91            -2           -2\n",
       "...                     ...            ...    ...           ...          ...\n",
       "2019-05-03 19:00:00    7961          12.69  20.10            -2           -2\n",
       "2019-05-03 19:10:00    7962          12.73  19.52            -1           -1\n",
       "2019-05-03 19:20:00    7963          12.72  18.95            -1           -1\n",
       "2019-05-03 19:30:00    7964          12.72  18.53            -1           -1\n",
       "2019-05-03 19:40:00    7965          12.69  18.20            -2           -2\n",
       "2019-05-03 19:50:00    7966          12.57  17.92            -2           -2\n",
       "2019-05-03 20:00:00    7967          12.69  17.66            -2           -2\n",
       "2019-05-03 20:10:00    7968          12.68  17.41            -1           -1\n",
       "2019-05-03 20:20:00    7969          12.69  17.26            -1           -1\n",
       "2019-05-03 20:30:00    7970          12.68  17.14            -1           -1\n",
       "2019-05-03 20:40:00    7971          12.58  17.04            -2           -2\n",
       "2019-05-03 20:50:00    7972          12.66  16.91            -2           -2\n",
       "2019-05-03 21:00:00    7973          12.65  16.79            -2           -2\n",
       "2019-05-03 21:10:00    7974          12.64  16.61            -1           -1\n",
       "2019-05-03 21:20:00    7975          12.65  16.34            -1           -1\n",
       "2019-05-03 21:30:00    7976          12.65  16.02            -1           -1\n",
       "2019-05-03 21:40:00    7977          12.55  15.75            -2           -2\n",
       "2019-05-03 21:50:00    7978          12.63  15.53            -2           -2\n",
       "2019-05-03 22:00:00    7979          12.63  15.36            -2           -2\n",
       "2019-05-03 22:10:00    7980          12.60  15.19            -1           -1\n",
       "2019-05-03 22:20:00    7981          12.63  15.07            -1           -1\n",
       "2019-05-03 22:30:00    7982          12.63  15.00            -1           -1\n",
       "2019-05-03 22:40:00    7983          12.48  15.00            -2           -2\n",
       "2019-05-03 22:50:00    7984          12.61  14.97            -2           -2\n",
       "2019-05-03 23:00:00    7985          12.57  14.95            -2           -2\n",
       "2019-05-03 23:10:00    7986          12.60  14.90            -1           -1\n",
       "2019-05-03 23:20:00    7987          12.60  14.80            -1           -1\n",
       "2019-05-03 23:30:00    7988          12.60  14.64            -1           -1\n",
       "2019-05-03 23:40:00    7989          12.58  14.40            -2           -2\n",
       "2019-05-03 23:50:00    7990          12.59  14.16            -2           -2\n",
       "\n",
       "[144 rows x 5 columns]"
      ]
     },
<<<<<<< HEAD
     "execution_count": 13,
=======
     "execution_count": 15,
>>>>>>> 645a7dc0fbfbd1034272d40ed4f07eefd56797d1
     "metadata": {},
     "output_type": "execute_result"
    }
   ],
   "source": [
    "datos['2019-05-03']"
   ]
  },
  {
   "cell_type": "markdown",
   "metadata": {},
   "source": [
    "Con esto se tienen todos los datos de ese día. También se puede utilizar el operador : para indicar un rango de fechas."
   ]
  },
  {
   "cell_type": "code",
   "execution_count": 16,
   "metadata": {},
   "outputs": [
    {
     "data": {
<<<<<<< HEAD
=======
      "text/plain": [
       "<matplotlib.axes._subplots.AxesSubplot at 0x7fa178e76828>"
      ]
     },
     "execution_count": 16,
     "metadata": {},
     "output_type": "execute_result"
    },
    {
     "data": {
>>>>>>> 645a7dc0fbfbd1034272d40ed4f07eefd56797d1
      "image/png": "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\n",
      "text/plain": [
       "<Figure size 432x288 with 1 Axes>"
      ]
     },
     "metadata": {
      "needs_background": "light"
     },
     "output_type": "display_data"
    }
   ],
   "source": [
    "datos['Batt_Volt_Min']['2019-05-03':'2019-05-05'].plot()\n",
    "plt.show()"
   ]
  },
  {
   "cell_type": "markdown",
   "metadata": {},
   "source": [
    "Cabe destacar que en la gráfica se incluye el 6 de mayo porque el último valor tiene fecha a las 23:50.\n",
    "También se pueden sacar valores horarios, pero para ello, se ha de usar el método loc, ya que de otra forma se muestra un error al no saber pandas cómo interpretar esa operación."
   ]
  },
  {
   "cell_type": "code",
<<<<<<< HEAD
   "execution_count": 15,
=======
   "execution_count": 17,
>>>>>>> 645a7dc0fbfbd1034272d40ed4f07eefd56797d1
   "metadata": {},
   "outputs": [
    {
     "ename": "KeyError",
     "evalue": "'2019-05-03 05:00:00'",
     "output_type": "error",
     "traceback": [
      "\u001b[0;31m---------------------------------------------------------------------------\u001b[0m",
      "\u001b[0;31mKeyError\u001b[0m                                  Traceback (most recent call last)",
      "\u001b[0;32m/usr/lib/python3/dist-packages/pandas/core/indexes/base.py\u001b[0m in \u001b[0;36mget_loc\u001b[0;34m(self, key, method, tolerance)\u001b[0m\n\u001b[1;32m   2524\u001b[0m             \u001b[0;32mtry\u001b[0m\u001b[0;34m:\u001b[0m\u001b[0;34m\u001b[0m\u001b[0;34m\u001b[0m\u001b[0m\n\u001b[0;32m-> 2525\u001b[0;31m                 \u001b[0;32mreturn\u001b[0m \u001b[0mself\u001b[0m\u001b[0;34m.\u001b[0m\u001b[0m_engine\u001b[0m\u001b[0;34m.\u001b[0m\u001b[0mget_loc\u001b[0m\u001b[0;34m(\u001b[0m\u001b[0mkey\u001b[0m\u001b[0;34m)\u001b[0m\u001b[0;34m\u001b[0m\u001b[0;34m\u001b[0m\u001b[0m\n\u001b[0m\u001b[1;32m   2526\u001b[0m             \u001b[0;32mexcept\u001b[0m \u001b[0mKeyError\u001b[0m\u001b[0;34m:\u001b[0m\u001b[0;34m\u001b[0m\u001b[0;34m\u001b[0m\u001b[0m\n",
      "\u001b[0;32mpandas/_libs/index.pyx\u001b[0m in \u001b[0;36mpandas._libs.index.IndexEngine.get_loc\u001b[0;34m()\u001b[0m\n",
      "\u001b[0;32mpandas/_libs/index.pyx\u001b[0m in \u001b[0;36mpandas._libs.index.IndexEngine.get_loc\u001b[0;34m()\u001b[0m\n",
      "\u001b[0;32mpandas/_libs/hashtable_class_helper.pxi\u001b[0m in \u001b[0;36mpandas._libs.hashtable.PyObjectHashTable.get_item\u001b[0;34m()\u001b[0m\n",
      "\u001b[0;32mpandas/_libs/hashtable_class_helper.pxi\u001b[0m in \u001b[0;36mpandas._libs.hashtable.PyObjectHashTable.get_item\u001b[0;34m()\u001b[0m\n",
      "\u001b[0;31mKeyError\u001b[0m: '2019-05-03 05:00:00'",
      "\nDuring handling of the above exception, another exception occurred:\n",
      "\u001b[0;31mKeyError\u001b[0m                                  Traceback (most recent call last)",
<<<<<<< HEAD
      "\u001b[0;32m<ipython-input-15-e953d775e7fa>\u001b[0m in \u001b[0;36m<module>\u001b[0;34m\u001b[0m\n\u001b[0;32m----> 1\u001b[0;31m \u001b[0mdatos\u001b[0m\u001b[0;34m[\u001b[0m\u001b[0;34m'2019-05-03 05:00:00'\u001b[0m\u001b[0;34m]\u001b[0m\u001b[0;34m\u001b[0m\u001b[0;34m\u001b[0m\u001b[0m\n\u001b[0m",
=======
      "\u001b[0;32m<ipython-input-17-e953d775e7fa>\u001b[0m in \u001b[0;36m<module>\u001b[0;34m\u001b[0m\n\u001b[0;32m----> 1\u001b[0;31m \u001b[0mdatos\u001b[0m\u001b[0;34m[\u001b[0m\u001b[0;34m'2019-05-03 05:00:00'\u001b[0m\u001b[0;34m]\u001b[0m\u001b[0;34m\u001b[0m\u001b[0;34m\u001b[0m\u001b[0m\n\u001b[0m",
>>>>>>> 645a7dc0fbfbd1034272d40ed4f07eefd56797d1
      "\u001b[0;32m/usr/lib/python3/dist-packages/pandas/core/frame.py\u001b[0m in \u001b[0;36m__getitem__\u001b[0;34m(self, key)\u001b[0m\n\u001b[1;32m   2137\u001b[0m             \u001b[0;32mreturn\u001b[0m \u001b[0mself\u001b[0m\u001b[0;34m.\u001b[0m\u001b[0m_getitem_multilevel\u001b[0m\u001b[0;34m(\u001b[0m\u001b[0mkey\u001b[0m\u001b[0;34m)\u001b[0m\u001b[0;34m\u001b[0m\u001b[0;34m\u001b[0m\u001b[0m\n\u001b[1;32m   2138\u001b[0m         \u001b[0;32melse\u001b[0m\u001b[0;34m:\u001b[0m\u001b[0;34m\u001b[0m\u001b[0;34m\u001b[0m\u001b[0m\n\u001b[0;32m-> 2139\u001b[0;31m             \u001b[0;32mreturn\u001b[0m \u001b[0mself\u001b[0m\u001b[0;34m.\u001b[0m\u001b[0m_getitem_column\u001b[0m\u001b[0;34m(\u001b[0m\u001b[0mkey\u001b[0m\u001b[0;34m)\u001b[0m\u001b[0;34m\u001b[0m\u001b[0;34m\u001b[0m\u001b[0m\n\u001b[0m\u001b[1;32m   2140\u001b[0m \u001b[0;34m\u001b[0m\u001b[0m\n\u001b[1;32m   2141\u001b[0m     \u001b[0;32mdef\u001b[0m \u001b[0m_getitem_column\u001b[0m\u001b[0;34m(\u001b[0m\u001b[0mself\u001b[0m\u001b[0;34m,\u001b[0m \u001b[0mkey\u001b[0m\u001b[0;34m)\u001b[0m\u001b[0;34m:\u001b[0m\u001b[0;34m\u001b[0m\u001b[0;34m\u001b[0m\u001b[0m\n",
      "\u001b[0;32m/usr/lib/python3/dist-packages/pandas/core/frame.py\u001b[0m in \u001b[0;36m_getitem_column\u001b[0;34m(self, key)\u001b[0m\n\u001b[1;32m   2144\u001b[0m         \u001b[0;31m# get column\u001b[0m\u001b[0;34m\u001b[0m\u001b[0;34m\u001b[0m\u001b[0;34m\u001b[0m\u001b[0m\n\u001b[1;32m   2145\u001b[0m         \u001b[0;32mif\u001b[0m \u001b[0mself\u001b[0m\u001b[0;34m.\u001b[0m\u001b[0mcolumns\u001b[0m\u001b[0;34m.\u001b[0m\u001b[0mis_unique\u001b[0m\u001b[0;34m:\u001b[0m\u001b[0;34m\u001b[0m\u001b[0;34m\u001b[0m\u001b[0m\n\u001b[0;32m-> 2146\u001b[0;31m             \u001b[0;32mreturn\u001b[0m \u001b[0mself\u001b[0m\u001b[0;34m.\u001b[0m\u001b[0m_get_item_cache\u001b[0m\u001b[0;34m(\u001b[0m\u001b[0mkey\u001b[0m\u001b[0;34m)\u001b[0m\u001b[0;34m\u001b[0m\u001b[0;34m\u001b[0m\u001b[0m\n\u001b[0m\u001b[1;32m   2147\u001b[0m \u001b[0;34m\u001b[0m\u001b[0m\n\u001b[1;32m   2148\u001b[0m         \u001b[0;31m# duplicate columns & possible reduce dimensionality\u001b[0m\u001b[0;34m\u001b[0m\u001b[0;34m\u001b[0m\u001b[0;34m\u001b[0m\u001b[0m\n",
      "\u001b[0;32m/usr/lib/python3/dist-packages/pandas/core/generic.py\u001b[0m in \u001b[0;36m_get_item_cache\u001b[0;34m(self, item)\u001b[0m\n\u001b[1;32m   1840\u001b[0m         \u001b[0mres\u001b[0m \u001b[0;34m=\u001b[0m \u001b[0mcache\u001b[0m\u001b[0;34m.\u001b[0m\u001b[0mget\u001b[0m\u001b[0;34m(\u001b[0m\u001b[0mitem\u001b[0m\u001b[0;34m)\u001b[0m\u001b[0;34m\u001b[0m\u001b[0;34m\u001b[0m\u001b[0m\n\u001b[1;32m   1841\u001b[0m         \u001b[0;32mif\u001b[0m \u001b[0mres\u001b[0m \u001b[0;32mis\u001b[0m \u001b[0;32mNone\u001b[0m\u001b[0;34m:\u001b[0m\u001b[0;34m\u001b[0m\u001b[0;34m\u001b[0m\u001b[0m\n\u001b[0;32m-> 1842\u001b[0;31m             \u001b[0mvalues\u001b[0m \u001b[0;34m=\u001b[0m \u001b[0mself\u001b[0m\u001b[0;34m.\u001b[0m\u001b[0m_data\u001b[0m\u001b[0;34m.\u001b[0m\u001b[0mget\u001b[0m\u001b[0;34m(\u001b[0m\u001b[0mitem\u001b[0m\u001b[0;34m)\u001b[0m\u001b[0;34m\u001b[0m\u001b[0;34m\u001b[0m\u001b[0m\n\u001b[0m\u001b[1;32m   1843\u001b[0m             \u001b[0mres\u001b[0m \u001b[0;34m=\u001b[0m \u001b[0mself\u001b[0m\u001b[0;34m.\u001b[0m\u001b[0m_box_item_values\u001b[0m\u001b[0;34m(\u001b[0m\u001b[0mitem\u001b[0m\u001b[0;34m,\u001b[0m \u001b[0mvalues\u001b[0m\u001b[0;34m)\u001b[0m\u001b[0;34m\u001b[0m\u001b[0;34m\u001b[0m\u001b[0m\n\u001b[1;32m   1844\u001b[0m             \u001b[0mcache\u001b[0m\u001b[0;34m[\u001b[0m\u001b[0mitem\u001b[0m\u001b[0;34m]\u001b[0m \u001b[0;34m=\u001b[0m \u001b[0mres\u001b[0m\u001b[0;34m\u001b[0m\u001b[0;34m\u001b[0m\u001b[0m\n",
      "\u001b[0;32m/usr/lib/python3/dist-packages/pandas/core/internals.py\u001b[0m in \u001b[0;36mget\u001b[0;34m(self, item, fastpath)\u001b[0m\n\u001b[1;32m   3841\u001b[0m \u001b[0;34m\u001b[0m\u001b[0m\n\u001b[1;32m   3842\u001b[0m             \u001b[0;32mif\u001b[0m \u001b[0;32mnot\u001b[0m \u001b[0misna\u001b[0m\u001b[0;34m(\u001b[0m\u001b[0mitem\u001b[0m\u001b[0;34m)\u001b[0m\u001b[0;34m:\u001b[0m\u001b[0;34m\u001b[0m\u001b[0;34m\u001b[0m\u001b[0m\n\u001b[0;32m-> 3843\u001b[0;31m                 \u001b[0mloc\u001b[0m \u001b[0;34m=\u001b[0m \u001b[0mself\u001b[0m\u001b[0;34m.\u001b[0m\u001b[0mitems\u001b[0m\u001b[0;34m.\u001b[0m\u001b[0mget_loc\u001b[0m\u001b[0;34m(\u001b[0m\u001b[0mitem\u001b[0m\u001b[0;34m)\u001b[0m\u001b[0;34m\u001b[0m\u001b[0;34m\u001b[0m\u001b[0m\n\u001b[0m\u001b[1;32m   3844\u001b[0m             \u001b[0;32melse\u001b[0m\u001b[0;34m:\u001b[0m\u001b[0;34m\u001b[0m\u001b[0;34m\u001b[0m\u001b[0m\n\u001b[1;32m   3845\u001b[0m                 \u001b[0mindexer\u001b[0m \u001b[0;34m=\u001b[0m \u001b[0mnp\u001b[0m\u001b[0;34m.\u001b[0m\u001b[0marange\u001b[0m\u001b[0;34m(\u001b[0m\u001b[0mlen\u001b[0m\u001b[0;34m(\u001b[0m\u001b[0mself\u001b[0m\u001b[0;34m.\u001b[0m\u001b[0mitems\u001b[0m\u001b[0;34m)\u001b[0m\u001b[0;34m)\u001b[0m\u001b[0;34m[\u001b[0m\u001b[0misna\u001b[0m\u001b[0;34m(\u001b[0m\u001b[0mself\u001b[0m\u001b[0;34m.\u001b[0m\u001b[0mitems\u001b[0m\u001b[0;34m)\u001b[0m\u001b[0;34m]\u001b[0m\u001b[0;34m\u001b[0m\u001b[0;34m\u001b[0m\u001b[0m\n",
      "\u001b[0;32m/usr/lib/python3/dist-packages/pandas/core/indexes/base.py\u001b[0m in \u001b[0;36mget_loc\u001b[0;34m(self, key, method, tolerance)\u001b[0m\n\u001b[1;32m   2525\u001b[0m                 \u001b[0;32mreturn\u001b[0m \u001b[0mself\u001b[0m\u001b[0;34m.\u001b[0m\u001b[0m_engine\u001b[0m\u001b[0;34m.\u001b[0m\u001b[0mget_loc\u001b[0m\u001b[0;34m(\u001b[0m\u001b[0mkey\u001b[0m\u001b[0;34m)\u001b[0m\u001b[0;34m\u001b[0m\u001b[0;34m\u001b[0m\u001b[0m\n\u001b[1;32m   2526\u001b[0m             \u001b[0;32mexcept\u001b[0m \u001b[0mKeyError\u001b[0m\u001b[0;34m:\u001b[0m\u001b[0;34m\u001b[0m\u001b[0;34m\u001b[0m\u001b[0m\n\u001b[0;32m-> 2527\u001b[0;31m                 \u001b[0;32mreturn\u001b[0m \u001b[0mself\u001b[0m\u001b[0;34m.\u001b[0m\u001b[0m_engine\u001b[0m\u001b[0;34m.\u001b[0m\u001b[0mget_loc\u001b[0m\u001b[0;34m(\u001b[0m\u001b[0mself\u001b[0m\u001b[0;34m.\u001b[0m\u001b[0m_maybe_cast_indexer\u001b[0m\u001b[0;34m(\u001b[0m\u001b[0mkey\u001b[0m\u001b[0;34m)\u001b[0m\u001b[0;34m)\u001b[0m\u001b[0;34m\u001b[0m\u001b[0;34m\u001b[0m\u001b[0m\n\u001b[0m\u001b[1;32m   2528\u001b[0m \u001b[0;34m\u001b[0m\u001b[0m\n\u001b[1;32m   2529\u001b[0m         \u001b[0mindexer\u001b[0m \u001b[0;34m=\u001b[0m \u001b[0mself\u001b[0m\u001b[0;34m.\u001b[0m\u001b[0mget_indexer\u001b[0m\u001b[0;34m(\u001b[0m\u001b[0;34m[\u001b[0m\u001b[0mkey\u001b[0m\u001b[0;34m]\u001b[0m\u001b[0;34m,\u001b[0m \u001b[0mmethod\u001b[0m\u001b[0;34m=\u001b[0m\u001b[0mmethod\u001b[0m\u001b[0;34m,\u001b[0m \u001b[0mtolerance\u001b[0m\u001b[0;34m=\u001b[0m\u001b[0mtolerance\u001b[0m\u001b[0;34m)\u001b[0m\u001b[0;34m\u001b[0m\u001b[0;34m\u001b[0m\u001b[0m\n",
      "\u001b[0;32mpandas/_libs/index.pyx\u001b[0m in \u001b[0;36mpandas._libs.index.IndexEngine.get_loc\u001b[0;34m()\u001b[0m\n",
      "\u001b[0;32mpandas/_libs/index.pyx\u001b[0m in \u001b[0;36mpandas._libs.index.IndexEngine.get_loc\u001b[0;34m()\u001b[0m\n",
      "\u001b[0;32mpandas/_libs/hashtable_class_helper.pxi\u001b[0m in \u001b[0;36mpandas._libs.hashtable.PyObjectHashTable.get_item\u001b[0;34m()\u001b[0m\n",
      "\u001b[0;32mpandas/_libs/hashtable_class_helper.pxi\u001b[0m in \u001b[0;36mpandas._libs.hashtable.PyObjectHashTable.get_item\u001b[0;34m()\u001b[0m\n",
      "\u001b[0;31mKeyError\u001b[0m: '2019-05-03 05:00:00'"
     ]
    }
   ],
   "source": [
    "datos['2019-05-03 05:00:00']"
   ]
  },
  {
   "cell_type": "code",
<<<<<<< HEAD
   "execution_count": 17,
=======
   "execution_count": 18,
>>>>>>> 645a7dc0fbfbd1034272d40ed4f07eefd56797d1
   "metadata": {},
   "outputs": [
    {
     "data": {
      "text/plain": [
       "RECORD           7877.00\n",
       "Batt_Volt_Min      12.44\n",
       "PTemp               9.86\n",
       "FTPRes_Campo       -2.00\n",
       "FTPRes_Inst        -2.00\n",
       "Name: 2019-05-03 05:00:00, dtype: float64"
      ]
     },
<<<<<<< HEAD
     "execution_count": 17,
=======
     "execution_count": 18,
>>>>>>> 645a7dc0fbfbd1034272d40ed4f07eefd56797d1
     "metadata": {},
     "output_type": "execute_result"
    }
   ],
   "source": [
    "datos.loc['2019-05-03 05:00:00']"
   ]
  },
  {
   "cell_type": "markdown",
   "metadata": {},
   "source": [
    "En el caso de que se quiera reducir el número de datos disponibles a otros más manejables, bien porque se han tomado muchos datos, bien porque se quieran obtener medias diarias y otros resúmenes, se puede utilizar la función resample."
   ]
  },
  {
   "cell_type": "code",
<<<<<<< HEAD
   "execution_count": 18,
=======
   "execution_count": 19,
>>>>>>> 645a7dc0fbfbd1034272d40ed4f07eefd56797d1
   "metadata": {},
   "outputs": [
    {
     "data": {
      "text/plain": [
       "DatetimeIndexResampler [freq=<Day>, axis=0, closed=left, label=left, convention=start, base=0]"
      ]
     },
<<<<<<< HEAD
     "execution_count": 18,
=======
     "execution_count": 19,
>>>>>>> 645a7dc0fbfbd1034272d40ed4f07eefd56797d1
     "metadata": {},
     "output_type": "execute_result"
    }
   ],
   "source": [
    "datos.resample('D')"
   ]
  },
  {
   "cell_type": "markdown",
   "metadata": {},
   "source": [
    "Con eso, los datos han sido agrupados por día, pero no se obtiene ningún valor. Esto es porque no se le ha indicado cómo debe agrupar los datos. Para ello, se utilizan las funciones de resumen, como mean, min, max..."
   ]
  },
  {
   "cell_type": "code",
<<<<<<< HEAD
   "execution_count": 19,
=======
   "execution_count": 20,
>>>>>>> 645a7dc0fbfbd1034272d40ed4f07eefd56797d1
   "metadata": {},
   "outputs": [
    {
     "data": {
      "text/html": [
       "<div>\n",
       "<style scoped>\n",
       "    .dataframe tbody tr th:only-of-type {\n",
       "        vertical-align: middle;\n",
       "    }\n",
       "\n",
       "    .dataframe tbody tr th {\n",
       "        vertical-align: top;\n",
       "    }\n",
       "\n",
       "    .dataframe thead th {\n",
       "        text-align: right;\n",
       "    }\n",
       "</style>\n",
       "<table border=\"1\" class=\"dataframe\">\n",
       "  <thead>\n",
       "    <tr style=\"text-align: right;\">\n",
       "      <th></th>\n",
       "      <th>RECORD</th>\n",
       "      <th>Batt_Volt_Min</th>\n",
       "      <th>PTemp</th>\n",
       "      <th>FTPRes_Campo</th>\n",
       "      <th>FTPRes_Inst</th>\n",
       "    </tr>\n",
       "    <tr>\n",
       "      <th>TIMESTAMP</th>\n",
       "      <th></th>\n",
       "      <th></th>\n",
       "      <th></th>\n",
       "      <th></th>\n",
       "      <th></th>\n",
       "    </tr>\n",
       "  </thead>\n",
       "  <tbody>\n",
       "    <tr>\n",
       "      <th>2019-05-02</th>\n",
       "      <td>7805.5</td>\n",
       "      <td>13.442561</td>\n",
       "      <td>21.344878</td>\n",
       "      <td>-1.500000</td>\n",
       "      <td>-1.500000</td>\n",
       "    </tr>\n",
       "    <tr>\n",
       "      <th>2019-05-03</th>\n",
       "      <td>7918.5</td>\n",
       "      <td>13.058333</td>\n",
       "      <td>17.675000</td>\n",
       "      <td>-1.520833</td>\n",
       "      <td>-1.520833</td>\n",
       "    </tr>\n",
       "    <tr>\n",
       "      <th>2019-05-04</th>\n",
       "      <td>8062.5</td>\n",
       "      <td>13.039375</td>\n",
       "      <td>18.081597</td>\n",
       "      <td>-1.520833</td>\n",
       "      <td>-1.520833</td>\n",
       "    </tr>\n",
       "    <tr>\n",
       "      <th>2019-05-05</th>\n",
       "      <td>8206.5</td>\n",
       "      <td>13.091944</td>\n",
       "      <td>18.160903</td>\n",
       "      <td>-1.520833</td>\n",
       "      <td>-1.520833</td>\n",
       "    </tr>\n",
       "    <tr>\n",
       "      <th>2019-05-06</th>\n",
       "      <td>8350.5</td>\n",
       "      <td>12.956389</td>\n",
       "      <td>18.951736</td>\n",
       "      <td>-1.520833</td>\n",
       "      <td>-1.520833</td>\n",
       "    </tr>\n",
       "    <tr>\n",
       "      <th>2019-05-07</th>\n",
       "      <td>8494.5</td>\n",
       "      <td>13.027292</td>\n",
       "      <td>22.339097</td>\n",
       "      <td>-1.520833</td>\n",
       "      <td>-1.520833</td>\n",
       "    </tr>\n",
       "    <tr>\n",
       "      <th>2019-05-08</th>\n",
       "      <td>8638.5</td>\n",
       "      <td>13.070764</td>\n",
       "      <td>24.084583</td>\n",
       "      <td>-1.305556</td>\n",
       "      <td>-1.305556</td>\n",
       "    </tr>\n",
       "    <tr>\n",
       "      <th>2019-05-09</th>\n",
       "      <td>8782.5</td>\n",
       "      <td>12.927708</td>\n",
       "      <td>25.457014</td>\n",
       "      <td>-0.604167</td>\n",
       "      <td>-0.597222</td>\n",
       "    </tr>\n",
       "    <tr>\n",
       "      <th>2019-05-10</th>\n",
       "      <td>8926.5</td>\n",
       "      <td>13.018333</td>\n",
       "      <td>25.197083</td>\n",
       "      <td>-1.520833</td>\n",
       "      <td>-1.520833</td>\n",
       "    </tr>\n",
       "    <tr>\n",
       "      <th>2019-05-11</th>\n",
       "      <td>9070.5</td>\n",
       "      <td>13.016250</td>\n",
       "      <td>24.169583</td>\n",
       "      <td>-1.541667</td>\n",
       "      <td>-1.541667</td>\n",
       "    </tr>\n",
       "    <tr>\n",
       "      <th>2019-05-12</th>\n",
       "      <td>9214.5</td>\n",
       "      <td>12.899375</td>\n",
       "      <td>21.627083</td>\n",
       "      <td>-1.500000</td>\n",
       "      <td>-1.500000</td>\n",
       "    </tr>\n",
       "    <tr>\n",
       "      <th>2019-05-13</th>\n",
       "      <td>9358.5</td>\n",
       "      <td>12.866528</td>\n",
       "      <td>19.102847</td>\n",
       "      <td>-1.500000</td>\n",
       "      <td>-1.500000</td>\n",
       "    </tr>\n",
       "    <tr>\n",
       "      <th>2019-05-14</th>\n",
       "      <td>9502.5</td>\n",
       "      <td>13.044167</td>\n",
       "      <td>19.969861</td>\n",
       "      <td>-1.520833</td>\n",
       "      <td>-1.520833</td>\n",
       "    </tr>\n",
       "    <tr>\n",
       "      <th>2019-05-15</th>\n",
       "      <td>9646.5</td>\n",
       "      <td>13.051389</td>\n",
       "      <td>22.581528</td>\n",
       "      <td>-1.500000</td>\n",
       "      <td>-1.500000</td>\n",
       "    </tr>\n",
       "    <tr>\n",
       "      <th>2019-05-16</th>\n",
       "      <td>9790.5</td>\n",
       "      <td>13.052292</td>\n",
       "      <td>21.985417</td>\n",
       "      <td>-1.562500</td>\n",
       "      <td>-1.562500</td>\n",
       "    </tr>\n",
       "    <tr>\n",
       "      <th>2019-05-17</th>\n",
       "      <td>9934.5</td>\n",
       "      <td>13.090347</td>\n",
       "      <td>21.793125</td>\n",
       "      <td>-1.583333</td>\n",
       "      <td>-1.583333</td>\n",
       "    </tr>\n",
       "    <tr>\n",
       "      <th>2019-05-18</th>\n",
       "      <td>10078.5</td>\n",
       "      <td>12.937153</td>\n",
       "      <td>19.824097</td>\n",
       "      <td>-1.562500</td>\n",
       "      <td>-1.562500</td>\n",
       "    </tr>\n",
       "    <tr>\n",
       "      <th>2019-05-19</th>\n",
       "      <td>10222.5</td>\n",
       "      <td>12.912431</td>\n",
       "      <td>19.779583</td>\n",
       "      <td>-1.500000</td>\n",
       "      <td>-1.500000</td>\n",
       "    </tr>\n",
       "    <tr>\n",
       "      <th>2019-05-20</th>\n",
       "      <td>10366.5</td>\n",
       "      <td>13.057917</td>\n",
       "      <td>20.055347</td>\n",
       "      <td>-1.500000</td>\n",
       "      <td>-1.500000</td>\n",
       "    </tr>\n",
       "    <tr>\n",
       "      <th>2019-05-21</th>\n",
       "      <td>10510.5</td>\n",
       "      <td>12.876389</td>\n",
       "      <td>20.339028</td>\n",
       "      <td>-1.520833</td>\n",
       "      <td>-1.520833</td>\n",
       "    </tr>\n",
       "    <tr>\n",
       "      <th>2019-05-22</th>\n",
       "      <td>10654.5</td>\n",
       "      <td>13.055000</td>\n",
       "      <td>21.099722</td>\n",
       "      <td>-1.520833</td>\n",
       "      <td>-1.520833</td>\n",
       "    </tr>\n",
       "    <tr>\n",
       "      <th>2019-05-23</th>\n",
       "      <td>10798.5</td>\n",
       "      <td>13.097569</td>\n",
       "      <td>22.469097</td>\n",
       "      <td>-0.138889</td>\n",
       "      <td>-0.138889</td>\n",
       "    </tr>\n",
       "    <tr>\n",
       "      <th>2019-05-24</th>\n",
       "      <td>10942.5</td>\n",
       "      <td>12.789097</td>\n",
       "      <td>19.032153</td>\n",
       "      <td>0.000000</td>\n",
       "      <td>0.000000</td>\n",
       "    </tr>\n",
       "    <tr>\n",
       "      <th>2019-05-25</th>\n",
       "      <td>11086.5</td>\n",
       "      <td>12.803681</td>\n",
       "      <td>19.175486</td>\n",
       "      <td>0.000000</td>\n",
       "      <td>0.000000</td>\n",
       "    </tr>\n",
       "    <tr>\n",
       "      <th>2019-05-26</th>\n",
       "      <td>11230.5</td>\n",
       "      <td>13.034236</td>\n",
       "      <td>21.672917</td>\n",
       "      <td>0.000000</td>\n",
       "      <td>0.000000</td>\n",
       "    </tr>\n",
       "    <tr>\n",
       "      <th>2019-05-27</th>\n",
       "      <td>11374.5</td>\n",
       "      <td>13.067292</td>\n",
       "      <td>23.576597</td>\n",
       "      <td>0.000000</td>\n",
       "      <td>0.000000</td>\n",
       "    </tr>\n",
       "    <tr>\n",
       "      <th>2019-05-28</th>\n",
       "      <td>11518.5</td>\n",
       "      <td>13.004444</td>\n",
       "      <td>22.823472</td>\n",
       "      <td>0.000000</td>\n",
       "      <td>0.000000</td>\n",
       "    </tr>\n",
       "    <tr>\n",
       "      <th>2019-05-29</th>\n",
       "      <td>11662.5</td>\n",
       "      <td>13.042083</td>\n",
       "      <td>20.270625</td>\n",
       "      <td>0.000000</td>\n",
       "      <td>0.000000</td>\n",
       "    </tr>\n",
       "    <tr>\n",
       "      <th>2019-05-30</th>\n",
       "      <td>11806.5</td>\n",
       "      <td>13.031736</td>\n",
       "      <td>20.467500</td>\n",
       "      <td>0.000000</td>\n",
       "      <td>0.000000</td>\n",
       "    </tr>\n",
       "    <tr>\n",
       "      <th>2019-05-31</th>\n",
       "      <td>11950.5</td>\n",
       "      <td>13.124722</td>\n",
       "      <td>20.807847</td>\n",
       "      <td>0.000000</td>\n",
       "      <td>0.000000</td>\n",
       "    </tr>\n",
       "    <tr>\n",
       "      <th>2019-06-01</th>\n",
       "      <td>12094.5</td>\n",
       "      <td>13.128333</td>\n",
       "      <td>21.492569</td>\n",
       "      <td>0.000000</td>\n",
       "      <td>0.000000</td>\n",
       "    </tr>\n",
       "    <tr>\n",
       "      <th>2019-06-02</th>\n",
       "      <td>12238.5</td>\n",
       "      <td>13.122431</td>\n",
       "      <td>22.379028</td>\n",
       "      <td>0.000000</td>\n",
       "      <td>0.000000</td>\n",
       "    </tr>\n",
       "    <tr>\n",
       "      <th>2019-06-03</th>\n",
       "      <td>12382.5</td>\n",
       "      <td>13.111389</td>\n",
       "      <td>23.553056</td>\n",
       "      <td>0.000000</td>\n",
       "      <td>0.000000</td>\n",
       "    </tr>\n",
       "    <tr>\n",
       "      <th>2019-06-04</th>\n",
       "      <td>12526.5</td>\n",
       "      <td>13.110833</td>\n",
       "      <td>24.181181</td>\n",
       "      <td>0.000000</td>\n",
       "      <td>0.000000</td>\n",
       "    </tr>\n",
       "    <tr>\n",
       "      <th>2019-06-05</th>\n",
       "      <td>12670.5</td>\n",
       "      <td>13.079306</td>\n",
       "      <td>24.440208</td>\n",
       "      <td>0.000000</td>\n",
       "      <td>0.000000</td>\n",
       "    </tr>\n",
       "    <tr>\n",
       "      <th>2019-06-06</th>\n",
       "      <td>12771.5</td>\n",
       "      <td>12.676552</td>\n",
       "      <td>14.640172</td>\n",
       "      <td>0.000000</td>\n",
       "      <td>0.000000</td>\n",
       "    </tr>\n",
       "  </tbody>\n",
       "</table>\n",
       "</div>"
      ],
      "text/plain": [
       "             RECORD  Batt_Volt_Min      PTemp  FTPRes_Campo  FTPRes_Inst\n",
       "TIMESTAMP                                                               \n",
       "2019-05-02   7805.5      13.442561  21.344878     -1.500000    -1.500000\n",
       "2019-05-03   7918.5      13.058333  17.675000     -1.520833    -1.520833\n",
       "2019-05-04   8062.5      13.039375  18.081597     -1.520833    -1.520833\n",
       "2019-05-05   8206.5      13.091944  18.160903     -1.520833    -1.520833\n",
       "2019-05-06   8350.5      12.956389  18.951736     -1.520833    -1.520833\n",
       "2019-05-07   8494.5      13.027292  22.339097     -1.520833    -1.520833\n",
       "2019-05-08   8638.5      13.070764  24.084583     -1.305556    -1.305556\n",
       "2019-05-09   8782.5      12.927708  25.457014     -0.604167    -0.597222\n",
       "2019-05-10   8926.5      13.018333  25.197083     -1.520833    -1.520833\n",
       "2019-05-11   9070.5      13.016250  24.169583     -1.541667    -1.541667\n",
       "2019-05-12   9214.5      12.899375  21.627083     -1.500000    -1.500000\n",
       "2019-05-13   9358.5      12.866528  19.102847     -1.500000    -1.500000\n",
       "2019-05-14   9502.5      13.044167  19.969861     -1.520833    -1.520833\n",
       "2019-05-15   9646.5      13.051389  22.581528     -1.500000    -1.500000\n",
       "2019-05-16   9790.5      13.052292  21.985417     -1.562500    -1.562500\n",
       "2019-05-17   9934.5      13.090347  21.793125     -1.583333    -1.583333\n",
       "2019-05-18  10078.5      12.937153  19.824097     -1.562500    -1.562500\n",
       "2019-05-19  10222.5      12.912431  19.779583     -1.500000    -1.500000\n",
       "2019-05-20  10366.5      13.057917  20.055347     -1.500000    -1.500000\n",
       "2019-05-21  10510.5      12.876389  20.339028     -1.520833    -1.520833\n",
       "2019-05-22  10654.5      13.055000  21.099722     -1.520833    -1.520833\n",
       "2019-05-23  10798.5      13.097569  22.469097     -0.138889    -0.138889\n",
       "2019-05-24  10942.5      12.789097  19.032153      0.000000     0.000000\n",
       "2019-05-25  11086.5      12.803681  19.175486      0.000000     0.000000\n",
       "2019-05-26  11230.5      13.034236  21.672917      0.000000     0.000000\n",
       "2019-05-27  11374.5      13.067292  23.576597      0.000000     0.000000\n",
       "2019-05-28  11518.5      13.004444  22.823472      0.000000     0.000000\n",
       "2019-05-29  11662.5      13.042083  20.270625      0.000000     0.000000\n",
       "2019-05-30  11806.5      13.031736  20.467500      0.000000     0.000000\n",
       "2019-05-31  11950.5      13.124722  20.807847      0.000000     0.000000\n",
       "2019-06-01  12094.5      13.128333  21.492569      0.000000     0.000000\n",
       "2019-06-02  12238.5      13.122431  22.379028      0.000000     0.000000\n",
       "2019-06-03  12382.5      13.111389  23.553056      0.000000     0.000000\n",
       "2019-06-04  12526.5      13.110833  24.181181      0.000000     0.000000\n",
       "2019-06-05  12670.5      13.079306  24.440208      0.000000     0.000000\n",
       "2019-06-06  12771.5      12.676552  14.640172      0.000000     0.000000"
      ]
     },
<<<<<<< HEAD
     "execution_count": 19,
=======
     "execution_count": 20,
>>>>>>> 645a7dc0fbfbd1034272d40ed4f07eefd56797d1
     "metadata": {},
     "output_type": "execute_result"
    }
   ],
   "source": [
    "datos.resample('D').mean()"
   ]
  },
  {
   "cell_type": "markdown",
   "metadata": {},
   "source": [
    "Pero resample sólo se utiliza cuando se trata de fechas. Dado que el índice lo elige el usuario, se puede poner otro índice, como una etiqueta que identifique un sensor. Entonces, tendríamos varias columnas de datos que nos permitirían identificar las medidas. pandas acepta este tipo de datos, utilizando un vector de columnas en el método set_index."
   ]
  },
  {
   "cell_type": "code",
<<<<<<< HEAD
   "execution_count": 20,
=======
   "execution_count": 21,
>>>>>>> 645a7dc0fbfbd1034272d40ed4f07eefd56797d1
   "metadata": {},
   "outputs": [
    {
     "data": {
      "text/html": [
       "<div>\n",
       "<style scoped>\n",
       "    .dataframe tbody tr th:only-of-type {\n",
       "        vertical-align: middle;\n",
       "    }\n",
       "\n",
       "    .dataframe tbody tr th {\n",
       "        vertical-align: top;\n",
       "    }\n",
       "\n",
       "    .dataframe thead th {\n",
       "        text-align: right;\n",
       "    }\n",
       "</style>\n",
       "<table border=\"1\" class=\"dataframe\">\n",
       "  <thead>\n",
       "    <tr style=\"text-align: right;\">\n",
       "      <th></th>\n",
       "      <th></th>\n",
       "      <th>temp</th>\n",
       "      <th>humedad</th>\n",
       "    </tr>\n",
       "    <tr>\n",
       "      <th>tratamiento</th>\n",
       "      <th>localizacion</th>\n",
       "      <th></th>\n",
       "      <th></th>\n",
       "    </tr>\n",
       "  </thead>\n",
       "  <tbody>\n",
       "    <tr>\n",
       "      <th rowspan=\"6\" valign=\"top\">t1</th>\n",
       "      <th>arriba</th>\n",
       "      <td>22</td>\n",
       "      <td>55</td>\n",
       "    </tr>\n",
       "    <tr>\n",
       "      <th>arriba</th>\n",
       "      <td>21</td>\n",
       "      <td>54</td>\n",
       "    </tr>\n",
       "    <tr>\n",
       "      <th>abajo</th>\n",
       "      <td>16</td>\n",
       "      <td>54</td>\n",
       "    </tr>\n",
       "    <tr>\n",
       "      <th>abajo</th>\n",
       "      <td>15</td>\n",
       "      <td>57</td>\n",
       "    </tr>\n",
       "    <tr>\n",
       "      <th>fuera</th>\n",
       "      <td>10</td>\n",
       "      <td>46</td>\n",
       "    </tr>\n",
       "    <tr>\n",
       "      <th>fuera</th>\n",
       "      <td>9</td>\n",
       "      <td>45</td>\n",
       "    </tr>\n",
       "    <tr>\n",
       "      <th rowspan=\"6\" valign=\"top\">t2</th>\n",
       "      <th>arriba</th>\n",
       "      <td>21</td>\n",
       "      <td>57</td>\n",
       "    </tr>\n",
       "    <tr>\n",
       "      <th>arriba</th>\n",
       "      <td>23</td>\n",
       "      <td>55</td>\n",
       "    </tr>\n",
       "    <tr>\n",
       "      <th>abajo</th>\n",
       "      <td>17</td>\n",
       "      <td>57</td>\n",
       "    </tr>\n",
       "    <tr>\n",
       "      <th>abajo</th>\n",
       "      <td>16</td>\n",
       "      <td>54</td>\n",
       "    </tr>\n",
       "    <tr>\n",
       "      <th>fuera</th>\n",
       "      <td>11</td>\n",
       "      <td>44</td>\n",
       "    </tr>\n",
       "    <tr>\n",
       "      <th>fuera</th>\n",
       "      <td>10</td>\n",
       "      <td>45</td>\n",
       "    </tr>\n",
       "  </tbody>\n",
       "</table>\n",
       "</div>"
      ],
      "text/plain": [
       "                          temp  humedad\n",
       "tratamiento localizacion               \n",
       "t1          arriba          22       55\n",
       "            arriba          21       54\n",
       "            abajo           16       54\n",
       "            abajo           15       57\n",
       "            fuera           10       46\n",
       "            fuera            9       45\n",
       "t2          arriba          21       57\n",
       "            arriba          23       55\n",
       "            abajo           17       57\n",
       "            abajo           16       54\n",
       "            fuera           11       44\n",
       "            fuera           10       45"
      ]
     },
<<<<<<< HEAD
     "execution_count": 20,
=======
     "execution_count": 21,
>>>>>>> 645a7dc0fbfbd1034272d40ed4f07eefd56797d1
     "metadata": {},
     "output_type": "execute_result"
    }
   ],
   "source": [
    "df_multi = pd.read_csv('multiindice.csv', index_col=['tratamiento', 'localizacion'])\n",
    "df_multi"
   ]
  },
  {
   "cell_type": "markdown",
   "metadata": {},
   "source": [
    "Usando groupby se pueden realizar los resumenes de una forma muy parecida a lo mostrado anteriormente."
   ]
  },
  {
   "cell_type": "code",
<<<<<<< HEAD
   "execution_count": 21,
=======
   "execution_count": 22,
>>>>>>> 645a7dc0fbfbd1034272d40ed4f07eefd56797d1
   "metadata": {},
   "outputs": [
    {
     "data": {
      "text/html": [
       "<div>\n",
       "<style scoped>\n",
       "    .dataframe tbody tr th:only-of-type {\n",
       "        vertical-align: middle;\n",
       "    }\n",
       "\n",
       "    .dataframe tbody tr th {\n",
       "        vertical-align: top;\n",
       "    }\n",
       "\n",
       "    .dataframe thead th {\n",
       "        text-align: right;\n",
       "    }\n",
       "</style>\n",
       "<table border=\"1\" class=\"dataframe\">\n",
       "  <thead>\n",
       "    <tr style=\"text-align: right;\">\n",
       "      <th></th>\n",
       "      <th>temp</th>\n",
       "      <th>humedad</th>\n",
       "    </tr>\n",
       "    <tr>\n",
       "      <th>tratamiento</th>\n",
       "      <th></th>\n",
       "      <th></th>\n",
       "    </tr>\n",
       "  </thead>\n",
       "  <tbody>\n",
       "    <tr>\n",
       "      <th>t1</th>\n",
       "      <td>15.500000</td>\n",
       "      <td>51.833333</td>\n",
       "    </tr>\n",
       "    <tr>\n",
       "      <th>t2</th>\n",
       "      <td>16.333333</td>\n",
       "      <td>52.000000</td>\n",
       "    </tr>\n",
       "  </tbody>\n",
       "</table>\n",
       "</div>"
      ],
      "text/plain": [
       "                  temp    humedad\n",
       "tratamiento                      \n",
       "t1           15.500000  51.833333\n",
       "t2           16.333333  52.000000"
      ]
     },
<<<<<<< HEAD
     "execution_count": 21,
=======
     "execution_count": 22,
>>>>>>> 645a7dc0fbfbd1034272d40ed4f07eefd56797d1
     "metadata": {},
     "output_type": "execute_result"
    }
   ],
   "source": [
    "df_multi.groupby(by='tratamiento').mean()"
   ]
  },
  {
   "cell_type": "code",
<<<<<<< HEAD
   "execution_count": 22,
=======
   "execution_count": 23,
>>>>>>> 645a7dc0fbfbd1034272d40ed4f07eefd56797d1
   "metadata": {},
   "outputs": [
    {
     "data": {
      "text/html": [
       "<div>\n",
       "<style scoped>\n",
       "    .dataframe tbody tr th:only-of-type {\n",
       "        vertical-align: middle;\n",
       "    }\n",
       "\n",
       "    .dataframe tbody tr th {\n",
       "        vertical-align: top;\n",
       "    }\n",
       "\n",
       "    .dataframe thead th {\n",
       "        text-align: right;\n",
       "    }\n",
       "</style>\n",
       "<table border=\"1\" class=\"dataframe\">\n",
       "  <thead>\n",
       "    <tr style=\"text-align: right;\">\n",
       "      <th></th>\n",
       "      <th>temp</th>\n",
       "      <th>humedad</th>\n",
       "    </tr>\n",
       "    <tr>\n",
       "      <th>localizacion</th>\n",
       "      <th></th>\n",
       "      <th></th>\n",
       "    </tr>\n",
       "  </thead>\n",
       "  <tbody>\n",
       "    <tr>\n",
       "      <th>abajo</th>\n",
       "      <td>16.00</td>\n",
       "      <td>55.50</td>\n",
       "    </tr>\n",
       "    <tr>\n",
       "      <th>arriba</th>\n",
       "      <td>21.75</td>\n",
       "      <td>55.25</td>\n",
       "    </tr>\n",
       "    <tr>\n",
       "      <th>fuera</th>\n",
       "      <td>10.00</td>\n",
       "      <td>45.00</td>\n",
       "    </tr>\n",
       "  </tbody>\n",
       "</table>\n",
       "</div>"
      ],
      "text/plain": [
       "               temp  humedad\n",
       "localizacion                \n",
       "abajo         16.00    55.50\n",
       "arriba        21.75    55.25\n",
       "fuera         10.00    45.00"
      ]
     },
<<<<<<< HEAD
     "execution_count": 22,
=======
     "execution_count": 23,
>>>>>>> 645a7dc0fbfbd1034272d40ed4f07eefd56797d1
     "metadata": {},
     "output_type": "execute_result"
    }
   ],
   "source": [
    "df_multi.groupby(by='localizacion').mean()"
   ]
  },
  {
   "cell_type": "markdown",
   "metadata": {},
   "source": [
    "O incluso, agrupar por varios índices."
   ]
  },
  {
   "cell_type": "code",
<<<<<<< HEAD
   "execution_count": 23,
=======
   "execution_count": 24,
>>>>>>> 645a7dc0fbfbd1034272d40ed4f07eefd56797d1
   "metadata": {},
   "outputs": [
    {
     "data": {
      "text/html": [
       "<div>\n",
       "<style scoped>\n",
       "    .dataframe tbody tr th:only-of-type {\n",
       "        vertical-align: middle;\n",
       "    }\n",
       "\n",
       "    .dataframe tbody tr th {\n",
       "        vertical-align: top;\n",
       "    }\n",
       "\n",
       "    .dataframe thead th {\n",
       "        text-align: right;\n",
       "    }\n",
       "</style>\n",
       "<table border=\"1\" class=\"dataframe\">\n",
       "  <thead>\n",
       "    <tr style=\"text-align: right;\">\n",
       "      <th></th>\n",
       "      <th></th>\n",
       "      <th>temp</th>\n",
       "      <th>humedad</th>\n",
       "    </tr>\n",
       "    <tr>\n",
       "      <th>localizacion</th>\n",
       "      <th>tratamiento</th>\n",
       "      <th></th>\n",
       "      <th></th>\n",
       "    </tr>\n",
       "  </thead>\n",
       "  <tbody>\n",
       "    <tr>\n",
       "      <th rowspan=\"2\" valign=\"top\">abajo</th>\n",
       "      <th>t1</th>\n",
       "      <td>15.5</td>\n",
       "      <td>55.5</td>\n",
       "    </tr>\n",
       "    <tr>\n",
       "      <th>t2</th>\n",
       "      <td>16.5</td>\n",
       "      <td>55.5</td>\n",
       "    </tr>\n",
       "    <tr>\n",
       "      <th rowspan=\"2\" valign=\"top\">arriba</th>\n",
       "      <th>t1</th>\n",
       "      <td>21.5</td>\n",
       "      <td>54.5</td>\n",
       "    </tr>\n",
       "    <tr>\n",
       "      <th>t2</th>\n",
       "      <td>22.0</td>\n",
       "      <td>56.0</td>\n",
       "    </tr>\n",
       "    <tr>\n",
       "      <th rowspan=\"2\" valign=\"top\">fuera</th>\n",
       "      <th>t1</th>\n",
       "      <td>9.5</td>\n",
       "      <td>45.5</td>\n",
       "    </tr>\n",
       "    <tr>\n",
       "      <th>t2</th>\n",
       "      <td>10.5</td>\n",
       "      <td>44.5</td>\n",
       "    </tr>\n",
       "  </tbody>\n",
       "</table>\n",
       "</div>"
      ],
      "text/plain": [
       "                          temp  humedad\n",
       "localizacion tratamiento               \n",
       "abajo        t1           15.5     55.5\n",
       "             t2           16.5     55.5\n",
       "arriba       t1           21.5     54.5\n",
       "             t2           22.0     56.0\n",
       "fuera        t1            9.5     45.5\n",
       "             t2           10.5     44.5"
      ]
     },
<<<<<<< HEAD
     "execution_count": 23,
=======
     "execution_count": 24,
>>>>>>> 645a7dc0fbfbd1034272d40ed4f07eefd56797d1
     "metadata": {},
     "output_type": "execute_result"
    }
   ],
   "source": [
    "df_multi.groupby(by=['localizacion','tratamiento']).mean()"
   ]
  },
  {
   "cell_type": "markdown",
   "metadata": {},
   "source": [
    "Como se puede ver, se pueden realizar agrupaciones de forma sencilla, pero hay que tener especial atención a la hora de diseñar las tablas que almacenan los datos.\n",
    "Por último, se Verá cómo se pueden filtrar valores. En algunos casos puede ser interesante buscar valores concretos, que superen unos umbrales o cumplan funciones matemáticas.\n",
    "Para esto, se pueden utilizar los operadores de comparación de Python. En el siguiente ejemplo se buscan las horas del día a las cuales la batería del medidor del DataFrame datos es menor que 12.5 voltios, de forma que sepa si se descarga o no."
   ]
  },
  {
   "cell_type": "code",
<<<<<<< HEAD
   "execution_count": 24,
=======
   "execution_count": 25,
>>>>>>> 645a7dc0fbfbd1034272d40ed4f07eefd56797d1
   "metadata": {},
   "outputs": [
    {
     "data": {
      "text/plain": [
       "TIMESTAMP\n",
       "2019-05-02 10:20:00    False\n",
       "2019-05-02 10:30:00    False\n",
       "2019-05-02 10:40:00    False\n",
       "2019-05-02 10:50:00    False\n",
       "2019-05-02 11:00:00    False\n",
       "Name: Batt_Volt_Min, dtype: bool"
      ]
     },
<<<<<<< HEAD
     "execution_count": 24,
=======
     "execution_count": 25,
>>>>>>> 645a7dc0fbfbd1034272d40ed4f07eefd56797d1
     "metadata": {},
     "output_type": "execute_result"
    }
   ],
   "source": [
    "busqueda = datos['Batt_Volt_Min'] < 12.5\n",
    "busqueda.head()"
   ]
  },
  {
   "cell_type": "markdown",
   "metadata": {},
   "source": [
    "Se puede observar que el resultado es un array de valores booleanos, que indica si se cumple la función que se le ha indicado en la comparación. Si encontramos dentro de este array un valor True, implica que la condición se cumple, es decir, que el valor de la batería es menor que 12.5 voltios. Utilizando este vector, también se puede extraer una sección del DataFrame inicial, incluyendo únicamente los valores en los que hay un True."
   ]
  },
  {
   "cell_type": "code",
<<<<<<< HEAD
   "execution_count": 25,
=======
   "execution_count": 26,
>>>>>>> 645a7dc0fbfbd1034272d40ed4f07eefd56797d1
   "metadata": {},
   "outputs": [
    {
     "data": {
      "text/html": [
       "<div>\n",
       "<style scoped>\n",
       "    .dataframe tbody tr th:only-of-type {\n",
       "        vertical-align: middle;\n",
       "    }\n",
       "\n",
       "    .dataframe tbody tr th {\n",
       "        vertical-align: top;\n",
       "    }\n",
       "\n",
       "    .dataframe thead th {\n",
       "        text-align: right;\n",
       "    }\n",
       "</style>\n",
       "<table border=\"1\" class=\"dataframe\">\n",
       "  <thead>\n",
       "    <tr style=\"text-align: right;\">\n",
       "      <th></th>\n",
       "      <th>RECORD</th>\n",
       "      <th>Batt_Volt_Min</th>\n",
       "      <th>PTemp</th>\n",
       "      <th>FTPRes_Campo</th>\n",
       "      <th>FTPRes_Inst</th>\n",
       "    </tr>\n",
       "    <tr>\n",
       "      <th>TIMESTAMP</th>\n",
       "      <th></th>\n",
       "      <th></th>\n",
       "      <th></th>\n",
       "      <th></th>\n",
       "      <th></th>\n",
       "    </tr>\n",
       "  </thead>\n",
       "  <tbody>\n",
       "    <tr>\n",
       "      <th>2019-05-03 01:40:00</th>\n",
       "      <td>7857</td>\n",
       "      <td>12.40</td>\n",
       "      <td>11.22</td>\n",
       "      <td>-2</td>\n",
       "      <td>-2</td>\n",
       "    </tr>\n",
       "    <tr>\n",
       "      <th>2019-05-03 02:10:00</th>\n",
       "      <td>7860</td>\n",
       "      <td>12.36</td>\n",
       "      <td>10.95</td>\n",
       "      <td>-1</td>\n",
       "      <td>-1</td>\n",
       "    </tr>\n",
       "    <tr>\n",
       "      <th>2019-05-03 02:40:00</th>\n",
       "      <td>7863</td>\n",
       "      <td>12.42</td>\n",
       "      <td>10.58</td>\n",
       "      <td>-2</td>\n",
       "      <td>-2</td>\n",
       "    </tr>\n",
       "    <tr>\n",
       "      <th>2019-05-03 03:10:00</th>\n",
       "      <td>7866</td>\n",
       "      <td>12.49</td>\n",
       "      <td>10.29</td>\n",
       "      <td>-1</td>\n",
       "      <td>-1</td>\n",
       "    </tr>\n",
       "    <tr>\n",
       "      <th>2019-05-03 03:30:00</th>\n",
       "      <td>7868</td>\n",
       "      <td>12.49</td>\n",
       "      <td>10.09</td>\n",
       "      <td>-1</td>\n",
       "      <td>-1</td>\n",
       "    </tr>\n",
       "  </tbody>\n",
       "</table>\n",
       "</div>"
      ],
      "text/plain": [
       "                     RECORD  Batt_Volt_Min  PTemp  FTPRes_Campo  FTPRes_Inst\n",
       "TIMESTAMP                                                                   \n",
       "2019-05-03 01:40:00    7857          12.40  11.22            -2           -2\n",
       "2019-05-03 02:10:00    7860          12.36  10.95            -1           -1\n",
       "2019-05-03 02:40:00    7863          12.42  10.58            -2           -2\n",
       "2019-05-03 03:10:00    7866          12.49  10.29            -1           -1\n",
       "2019-05-03 03:30:00    7868          12.49  10.09            -1           -1"
      ]
     },
<<<<<<< HEAD
     "execution_count": 25,
=======
     "execution_count": 26,
>>>>>>> 645a7dc0fbfbd1034272d40ed4f07eefd56797d1
     "metadata": {},
     "output_type": "execute_result"
    }
   ],
   "source": [
    "seccion = datos[busqueda]\n",
    "seccion.head()"
   ]
  },
  {
   "cell_type": "markdown",
   "metadata": {},
   "source": [
    "A partir de ahí se puede extraer información útil, como saber cuanto tiempo está la batería descargada en porcentaje (usando la función sum, que los True cuentan como 1), mandar una alarma a través de un correo electrónico o despreciar esos valores."
   ]
  },
  {
   "cell_type": "code",
<<<<<<< HEAD
   "execution_count": 26,
=======
   "execution_count": 27,
>>>>>>> 645a7dc0fbfbd1034272d40ed4f07eefd56797d1
   "metadata": {},
   "outputs": [
    {
     "data": {
      "text/plain": [
       "0.1828832406671962"
      ]
     },
<<<<<<< HEAD
     "execution_count": 26,
=======
     "execution_count": 27,
>>>>>>> 645a7dc0fbfbd1034272d40ed4f07eefd56797d1
     "metadata": {},
     "output_type": "execute_result"
    }
   ],
   "source": [
    "busqueda.sum()/busqueda.count()"
   ]
  },
  {
   "cell_type": "markdown",
   "metadata": {},
   "source": [
    "Con el comando anterior, se puede ver que el 18% de las muestras del fichero están en condiciones de descarga de la batería."
   ]
  }
 ],
 "metadata": {
  "kernelspec": {
   "display_name": "Python 3",
   "language": "python",
   "name": "python3"
  },
  "language_info": {
   "codemirror_mode": {
    "name": "ipython",
    "version": 3
   },
   "file_extension": ".py",
   "mimetype": "text/x-python",
   "name": "python",
   "nbconvert_exporter": "python",
   "pygments_lexer": "ipython3",
   "version": "3.6.9"
  }
 },
 "nbformat": 4,
 "nbformat_minor": 2
}
